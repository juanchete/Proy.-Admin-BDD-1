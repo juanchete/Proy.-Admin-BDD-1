{
 "cells": [
  {
   "cell_type": "code",
   "execution_count": 1,
   "metadata": {},
   "outputs": [],
   "source": [
    "import ssl\n",
    "import sys\n",
    "import psycopg2\n",
    "from sqlalchemy import create_engine\n",
    "import paho.mqtt.client\n",
    "import json\n",
    "import pandas as pd"
   ]
  },
  {
   "cell_type": "code",
   "execution_count": 2,
   "metadata": {},
   "outputs": [],
   "source": [
    "def pretty_select(query):\n",
    "    connection_string = 'postgres://{}:{}@{}:5432/{}'.format(user, password, host, dbname)\n",
    "    try:\n",
    "        engine = create_engine(connection_string)\n",
    "        records = pd.read_sql_query(query, engine)\n",
    "    except Exception as e:\n",
    "        print('Error en el query:', e)\n",
    "    else:\n",
    "        return records"
   ]
  },
  {
   "cell_type": "code",
   "execution_count": 3,
   "metadata": {},
   "outputs": [],
   "source": [
    "def select(query):\n",
    "    cur = myConnection.cursor()\n",
    "    try:\n",
    "        cur.execute(query)\n",
    "    except Exception as e:\n",
    "        myConnection.commit()\n",
    "        print('Error en el query:', e)\n",
    "    else:\n",
    "        records = cur.fetchall()\n",
    "        cur.close()\n",
    "        return records"
   ]
  },
  {
   "cell_type": "code",
   "execution_count": 4,
   "metadata": {},
   "outputs": [],
   "source": [
    "host='ruby.db.elephantsql.com'\n",
    "user ='uicdhpnp'\n",
    "password='Kfp61NZwnYQVCSDf-zl7Jae836R2u0Fn'\n",
    "dbname='uicdhpnp'"
   ]
  },
  {
   "cell_type": "code",
   "execution_count": 61,
   "metadata": {
    "scrolled": true
   },
   "outputs": [],
   "source": [
    "myConnection.close()"
   ]
  },
  {
   "cell_type": "code",
   "execution_count": 5,
   "metadata": {},
   "outputs": [],
   "source": [
    "myConnection = psycopg2.connect(host = host,\n",
    "                                user= user, password =password,\n",
    "                                dbname= dbname)"
   ]
  },
  {
   "cell_type": "code",
   "execution_count": null,
   "metadata": {},
   "outputs": [],
   "source": [
    "query = \"\"\"create table sensores_data (\n",
    "\tID_Estante varchar (4),\n",
    "    cant numeric (3,0),\n",
    "    temp numeric (3,1),\n",
    "    hora character varying,\n",
    "    primary key(ID_Estante, hora)\n",
    ");\"\"\"\n",
    "cur = myConnection.cursor()\n",
    "cur.execute(query)\n",
    "cur.close()\n",
    "myConnection.commit()"
   ]
  },
  {
   "cell_type": "code",
   "execution_count": null,
   "metadata": {},
   "outputs": [],
   "source": [
    "query = \"\"\"insert into Compra (ID_Compra, ID_Cliente, fecha, ID_Product, cant, ID_Sucursal) values (6003, 25021709, '11/5/2019', 3001, 3, 1000);\n",
    "insert into Compra (ID_Compra, ID_Cliente, fecha, ID_Product, cant, ID_Sucursal) values (6003, 25021709, '11/5/2019', 3004, 2, 1000);\n",
    "insert into Compra (ID_Compra, ID_Cliente, fecha, ID_Product, cant, ID_Sucursal) values (6003, 25021709, '11/5/2019', 3010, 3, 1000);\n",
    "insert into Compra (ID_Compra, ID_Cliente, fecha, ID_Product, cant, ID_Sucursal) values (6003, 25021709, '11/5/2019', 3006, 1, 1000);\n",
    "insert into Compra (ID_Compra, ID_Cliente, fecha, ID_Product, cant, ID_Sucursal) values (6003, 25021709, '11/5/2019', 3015, 4, 1000);\"\"\"\n",
    "\n",
    "cur = myConnection.cursor()\n",
    "cur.execute(query)"
   ]
  },
  {
   "cell_type": "code",
   "execution_count": null,
   "metadata": {},
   "outputs": [],
   "source": [
    "query = \"\"\"UPDATE compra\n",
    " SET id_sucursal='1001' where id_compra like '6002'\n",
    " \"\"\""
   ]
  },
  {
   "cell_type": "code",
   "execution_count": null,
   "metadata": {},
   "outputs": [],
   "source": [
    "query = \"\"\"select * from compra\"\"\"\n",
    "pretty_select(query)"
   ]
  },
  {
   "cell_type": "raw",
   "metadata": {},
   "source": [
    "QUERIES"
   ]
  },
  {
   "cell_type": "code",
   "execution_count": null,
   "metadata": {},
   "outputs": [],
   "source": [
    "#Cuales son los clientes conocidos y desconocidos que mas han comprado en cada una de las tiendas\n",
    "AÑADIR DATA EN OTRA TIENDA PARA AGREGAR ESO"
   ]
  },
  {
   "cell_type": "code",
   "execution_count": 6,
   "metadata": {},
   "outputs": [
    {
     "data": {
      "text/html": [
       "<div>\n",
       "<style scoped>\n",
       "    .dataframe tbody tr th:only-of-type {\n",
       "        vertical-align: middle;\n",
       "    }\n",
       "\n",
       "    .dataframe tbody tr th {\n",
       "        vertical-align: top;\n",
       "    }\n",
       "\n",
       "    .dataframe thead th {\n",
       "        text-align: right;\n",
       "    }\n",
       "</style>\n",
       "<table border=\"1\" class=\"dataframe\">\n",
       "  <thead>\n",
       "    <tr style=\"text-align: right;\">\n",
       "      <th></th>\n",
       "      <th>id_cliente</th>\n",
       "      <th>nombre</th>\n",
       "      <th>apellido</th>\n",
       "      <th>afiliacion</th>\n",
       "    </tr>\n",
       "  </thead>\n",
       "  <tbody>\n",
       "    <tr>\n",
       "      <th>0</th>\n",
       "      <td>25021709</td>\n",
       "      <td>Hestia</td>\n",
       "      <td>Boggish</td>\n",
       "      <td>AFILIADO</td>\n",
       "    </tr>\n",
       "  </tbody>\n",
       "</table>\n",
       "</div>"
      ],
      "text/plain": [
       "  id_cliente  nombre apellido afiliacion\n",
       "0   25021709  Hestia  Boggish   AFILIADO"
      ]
     },
     "execution_count": 6,
     "metadata": {},
     "output_type": "execute_result"
    }
   ],
   "source": [
    "query = \"\"\"select x.id_cliente, cliente.nombre, cliente.apellido,\n",
    "            case when afiliado.id_cliente is null then 'NO AFILIADO' else 'AFILIADO' end as afiliacion\n",
    "            from \n",
    "            (SELECT compra.id_cliente, COUNT(DISTINCT (compra.id_cliente, id_compra)) as compritas,\n",
    "            row_number() over \n",
    "            (partition by case when afiliado.id_cliente is null then 'NO AFILIADO' else 'AFILIADO' end) as top\n",
    "            FROM compra left join afiliado on compra.id_cliente = afiliado.id_cliente\n",
    "            group by compra.id_cliente, afiliado.id_cliente\n",
    "            order by compritas DESC) x\n",
    "            left join afiliado on x.id_cliente = afiliado.id_cliente\n",
    "            inner join cliente on x.id_cliente = cliente.id_cliente\n",
    "            where top <=1\"\"\"\n",
    "pretty_select(query)"
   ]
  },
  {
   "cell_type": "code",
   "execution_count": 7,
   "metadata": {},
   "outputs": [
    {
     "data": {
      "text/html": [
       "<div>\n",
       "<style scoped>\n",
       "    .dataframe tbody tr th:only-of-type {\n",
       "        vertical-align: middle;\n",
       "    }\n",
       "\n",
       "    .dataframe tbody tr th {\n",
       "        vertical-align: top;\n",
       "    }\n",
       "\n",
       "    .dataframe thead th {\n",
       "        text-align: right;\n",
       "    }\n",
       "</style>\n",
       "<table border=\"1\" class=\"dataframe\">\n",
       "  <thead>\n",
       "    <tr style=\"text-align: right;\">\n",
       "      <th></th>\n",
       "      <th>id_cliente</th>\n",
       "      <th>compritas</th>\n",
       "    </tr>\n",
       "  </thead>\n",
       "  <tbody>\n",
       "    <tr>\n",
       "      <th>0</th>\n",
       "      <td>25021709</td>\n",
       "      <td>3</td>\n",
       "    </tr>\n",
       "    <tr>\n",
       "      <th>1</th>\n",
       "      <td>25399720</td>\n",
       "      <td>1</td>\n",
       "    </tr>\n",
       "  </tbody>\n",
       "</table>\n",
       "</div>"
      ],
      "text/plain": [
       "  id_cliente  compritas\n",
       "0   25021709          3\n",
       "1   25399720          1"
      ]
     },
     "execution_count": 7,
     "metadata": {},
     "output_type": "execute_result"
    }
   ],
   "source": [
    "#CONOCIDOS\n",
    "query = \"\"\"SELECT id_cliente, COUNT(DISTINCT (compra.id_cliente, id_compra)) as compritas\n",
    "           FROM compra group by id_cliente\n",
    "           order by compritas DESC\"\"\"\n",
    "pretty_select(query)"
   ]
  },
  {
   "cell_type": "code",
   "execution_count": 8,
   "metadata": {},
   "outputs": [
    {
     "data": {
      "text/html": [
       "<div>\n",
       "<style scoped>\n",
       "    .dataframe tbody tr th:only-of-type {\n",
       "        vertical-align: middle;\n",
       "    }\n",
       "\n",
       "    .dataframe tbody tr th {\n",
       "        vertical-align: top;\n",
       "    }\n",
       "\n",
       "    .dataframe thead th {\n",
       "        text-align: right;\n",
       "    }\n",
       "</style>\n",
       "<table border=\"1\" class=\"dataframe\">\n",
       "  <thead>\n",
       "    <tr style=\"text-align: right;\">\n",
       "      <th></th>\n",
       "      <th>id_cliente</th>\n",
       "      <th>compritas</th>\n",
       "    </tr>\n",
       "  </thead>\n",
       "  <tbody>\n",
       "    <tr>\n",
       "      <th>0</th>\n",
       "      <td>None</td>\n",
       "      <td>1</td>\n",
       "    </tr>\n",
       "  </tbody>\n",
       "</table>\n",
       "</div>"
      ],
      "text/plain": [
       "  id_cliente  compritas\n",
       "0       None          1"
      ]
     },
     "execution_count": 8,
     "metadata": {},
     "output_type": "execute_result"
    }
   ],
   "source": [
    "#DESCONOCIDOS\n",
    "query = \"\"\"SELECT compra.id_cliente, COUNT(DISTINCT (compra.id_cliente, id_compra)) as compritas\n",
    "        FROM compra full join afiliado on compra.id_cliente=afiliado.id_cliente \n",
    "        where compra.id_cliente is null or afiliado.id_cliente is null\n",
    "        group by compra.id_cliente\n",
    "        order by compritas desc limit 1\"\"\"\n",
    "pretty_select(query)"
   ]
  },
  {
   "cell_type": "code",
   "execution_count": null,
   "metadata": {},
   "outputs": [],
   "source": [
    "#Diga cual es la categoría de producto que menos se ha vendido en cada una de las tiendas."
   ]
  },
  {
   "cell_type": "code",
   "execution_count": 17,
   "metadata": {
    "scrolled": true
   },
   "outputs": [
    {
     "data": {
      "text/html": [
       "<div>\n",
       "<style scoped>\n",
       "    .dataframe tbody tr th:only-of-type {\n",
       "        vertical-align: middle;\n",
       "    }\n",
       "\n",
       "    .dataframe tbody tr th {\n",
       "        vertical-align: top;\n",
       "    }\n",
       "\n",
       "    .dataframe thead th {\n",
       "        text-align: right;\n",
       "    }\n",
       "</style>\n",
       "<table border=\"1\" class=\"dataframe\">\n",
       "  <thead>\n",
       "    <tr style=\"text-align: right;\">\n",
       "      <th></th>\n",
       "      <th>id_sucursal</th>\n",
       "      <th>nombre</th>\n",
       "    </tr>\n",
       "  </thead>\n",
       "  <tbody>\n",
       "    <tr>\n",
       "      <th>0</th>\n",
       "      <td>1000</td>\n",
       "      <td>Higiene</td>\n",
       "    </tr>\n",
       "    <tr>\n",
       "      <th>1</th>\n",
       "      <td>1001</td>\n",
       "      <td>Snacks</td>\n",
       "    </tr>\n",
       "  </tbody>\n",
       "</table>\n",
       "</div>"
      ],
      "text/plain": [
       "  id_sucursal   nombre\n",
       "0        1000  Higiene\n",
       "1        1001   Snacks"
      ]
     },
     "execution_count": 17,
     "metadata": {},
     "output_type": "execute_result"
    }
   ],
   "source": [
    "query = \"\"\"select distinct on (id_sucursal) id_sucursal, categoria.nombre from compra \n",
    "           inner join producto on producto.id_producto = compra.id_producto\n",
    "           inner join categoria on producto.id_categoria = categoria.id_categoria\n",
    "           group by categoria.nombre, id_sucursal order by id_sucursal, sum(cant) asc limit 2\"\"\"\n",
    "pretty_select(query)"
   ]
  },
  {
   "cell_type": "code",
   "execution_count": null,
   "metadata": {},
   "outputs": [],
   "source": [
    "#Cuales es el top 5 de productos que mas se han vendido en cada una de las tiendas."
   ]
  },
  {
   "cell_type": "code",
   "execution_count": 20,
   "metadata": {
    "scrolled": true
   },
   "outputs": [
    {
     "data": {
      "text/html": [
       "<div>\n",
       "<style scoped>\n",
       "    .dataframe tbody tr th:only-of-type {\n",
       "        vertical-align: middle;\n",
       "    }\n",
       "\n",
       "    .dataframe tbody tr th {\n",
       "        vertical-align: top;\n",
       "    }\n",
       "\n",
       "    .dataframe thead th {\n",
       "        text-align: right;\n",
       "    }\n",
       "</style>\n",
       "<table border=\"1\" class=\"dataframe\">\n",
       "  <thead>\n",
       "    <tr style=\"text-align: right;\">\n",
       "      <th></th>\n",
       "      <th>direccion</th>\n",
       "      <th>nombrecito</th>\n",
       "      <th>cantidad</th>\n",
       "    </tr>\n",
       "  </thead>\n",
       "  <tbody>\n",
       "    <tr>\n",
       "      <th>0</th>\n",
       "      <td>las mercedes</td>\n",
       "      <td>Toallitas humedas Huggies</td>\n",
       "      <td>4.0</td>\n",
       "    </tr>\n",
       "    <tr>\n",
       "      <th>1</th>\n",
       "      <td>las mercedes</td>\n",
       "      <td>Chistorra La Monserratina</td>\n",
       "      <td>2.0</td>\n",
       "    </tr>\n",
       "    <tr>\n",
       "      <th>2</th>\n",
       "      <td>las mercedes</td>\n",
       "      <td>Colgate</td>\n",
       "      <td>2.0</td>\n",
       "    </tr>\n",
       "    <tr>\n",
       "      <th>3</th>\n",
       "      <td>las mercedes</td>\n",
       "      <td>Lechuga</td>\n",
       "      <td>2.0</td>\n",
       "    </tr>\n",
       "    <tr>\n",
       "      <th>4</th>\n",
       "      <td>las mercedes</td>\n",
       "      <td>Coca cola 1.5</td>\n",
       "      <td>1.0</td>\n",
       "    </tr>\n",
       "    <tr>\n",
       "      <th>5</th>\n",
       "      <td>los samanes</td>\n",
       "      <td>Toallitas humedas Huggies</td>\n",
       "      <td>8.0</td>\n",
       "    </tr>\n",
       "    <tr>\n",
       "      <th>6</th>\n",
       "      <td>los samanes</td>\n",
       "      <td>Chocolate de leche Nestle</td>\n",
       "      <td>6.0</td>\n",
       "    </tr>\n",
       "    <tr>\n",
       "      <th>7</th>\n",
       "      <td>los samanes</td>\n",
       "      <td>Doritos 200</td>\n",
       "      <td>6.0</td>\n",
       "    </tr>\n",
       "    <tr>\n",
       "      <th>8</th>\n",
       "      <td>los samanes</td>\n",
       "      <td>Jamon de pavo Movilla</td>\n",
       "      <td>4.0</td>\n",
       "    </tr>\n",
       "    <tr>\n",
       "      <th>9</th>\n",
       "      <td>los samanes</td>\n",
       "      <td>Colgate</td>\n",
       "      <td>2.0</td>\n",
       "    </tr>\n",
       "  </tbody>\n",
       "</table>\n",
       "</div>"
      ],
      "text/plain": [
       "      direccion                 nombrecito  cantidad\n",
       "0  las mercedes  Toallitas humedas Huggies       4.0\n",
       "1  las mercedes  Chistorra La Monserratina       2.0\n",
       "2  las mercedes                    Colgate       2.0\n",
       "3  las mercedes                    Lechuga       2.0\n",
       "4  las mercedes              Coca cola 1.5       1.0\n",
       "5   los samanes  Toallitas humedas Huggies       8.0\n",
       "6   los samanes  Chocolate de leche Nestle       6.0\n",
       "7   los samanes                Doritos 200       6.0\n",
       "8   los samanes      Jamon de pavo Movilla       4.0\n",
       "9   los samanes                    Colgate       2.0"
      ]
     },
     "execution_count": 20,
     "metadata": {},
     "output_type": "execute_result"
    }
   ],
   "source": [
    "query = \"\"\"select sucursal.direccion, x.nombrecito, x.cantidad from \n",
    "           (select id_sucursal, producto.nombre as nombrecito, sum(cant) as cantidad, \n",
    "            row_number() over (partition by id_sucursal order by sum(cant) desc) as numero\n",
    "            from compra \n",
    "            inner join producto on compra.id_producto = producto.id_producto\n",
    "            group by id_sucursal, producto.nombre) x\n",
    "            inner join sucursal on x.id_sucursal = sucursal.id_sucursal\n",
    "           where x.numero <= 5 group by sucursal.direccion, x.nombrecito, x.cantidad order by sucursal.direccion, x.cantidad desc\"\"\"\n",
    "pretty_select(query)"
   ]
  },
  {
   "cell_type": "code",
   "execution_count": null,
   "metadata": {},
   "outputs": [],
   "source": [
    "#Diga todos los clientes que en los últimos 7 días a partir de la ejecución del query han comprado\n",
    "#solo en una tienda y los que han comprado en las dos tiendas (realice queries distintos)."
   ]
  },
  {
   "cell_type": "code",
   "execution_count": 11,
   "metadata": {},
   "outputs": [
    {
     "data": {
      "text/html": [
       "<div>\n",
       "<style scoped>\n",
       "    .dataframe tbody tr th:only-of-type {\n",
       "        vertical-align: middle;\n",
       "    }\n",
       "\n",
       "    .dataframe tbody tr th {\n",
       "        vertical-align: top;\n",
       "    }\n",
       "\n",
       "    .dataframe thead th {\n",
       "        text-align: right;\n",
       "    }\n",
       "</style>\n",
       "<table border=\"1\" class=\"dataframe\">\n",
       "  <thead>\n",
       "    <tr style=\"text-align: right;\">\n",
       "      <th></th>\n",
       "      <th>id_cliente</th>\n",
       "      <th>nombre</th>\n",
       "      <th>apellido</th>\n",
       "    </tr>\n",
       "  </thead>\n",
       "  <tbody>\n",
       "    <tr>\n",
       "      <th>0</th>\n",
       "      <td>25399720</td>\n",
       "      <td>Edward</td>\n",
       "      <td>Odby</td>\n",
       "    </tr>\n",
       "  </tbody>\n",
       "</table>\n",
       "</div>"
      ],
      "text/plain": [
       "  id_cliente  nombre apellido\n",
       "0   25399720  Edward     Odby"
      ]
     },
     "execution_count": 11,
     "metadata": {},
     "output_type": "execute_result"
    }
   ],
   "source": [
    "#UNA SOLA TIENDA\n",
    "query = \"\"\"select x.id_cliente, cliente.nombre, cliente.apellido from \n",
    "            (select id_cliente, id_compra, id_sucursal from compra \n",
    "            group by id_compra, fecha, id_cliente, id_sucursal\n",
    "            having (current_date-compra.fecha)<=400) x\n",
    "            inner join cliente on x.id_cliente = cliente.id_cliente\n",
    "            group by x.id_cliente, cliente.nombre, cliente.apellido having count(distinct x.id_sucursal) = 1\"\"\"\n",
    "pretty_select(query)"
   ]
  },
  {
   "cell_type": "code",
   "execution_count": 21,
   "metadata": {},
   "outputs": [
    {
     "data": {
      "text/html": [
       "<div>\n",
       "<style scoped>\n",
       "    .dataframe tbody tr th:only-of-type {\n",
       "        vertical-align: middle;\n",
       "    }\n",
       "\n",
       "    .dataframe tbody tr th {\n",
       "        vertical-align: top;\n",
       "    }\n",
       "\n",
       "    .dataframe thead th {\n",
       "        text-align: right;\n",
       "    }\n",
       "</style>\n",
       "<table border=\"1\" class=\"dataframe\">\n",
       "  <thead>\n",
       "    <tr style=\"text-align: right;\">\n",
       "      <th></th>\n",
       "      <th>id_cliente</th>\n",
       "      <th>nombre</th>\n",
       "      <th>apellido</th>\n",
       "    </tr>\n",
       "  </thead>\n",
       "  <tbody>\n",
       "    <tr>\n",
       "      <th>0</th>\n",
       "      <td>25021709</td>\n",
       "      <td>Hestia</td>\n",
       "      <td>Boggish</td>\n",
       "    </tr>\n",
       "  </tbody>\n",
       "</table>\n",
       "</div>"
      ],
      "text/plain": [
       "  id_cliente  nombre apellido\n",
       "0   25021709  Hestia  Boggish"
      ]
     },
     "execution_count": 21,
     "metadata": {},
     "output_type": "execute_result"
    }
   ],
   "source": [
    "#EN LAS DOS TIENDAS\n",
    "query = \"\"\"select x.id_cliente, cliente.nombre, cliente.apellido from \n",
    "            (select id_cliente, id_compra, id_sucursal from compra \n",
    "            group by id_compra, fecha, id_cliente, id_sucursal\n",
    "            having (current_date-compra.fecha)<=400) x\n",
    "            inner join cliente on x.id_cliente = cliente.id_cliente\n",
    "            group by x.id_cliente, cliente.nombre, cliente.apellido having count(distinct x.id_sucursal) > 1\"\"\"\n",
    "pretty_select(query)"
   ]
  },
  {
   "cell_type": "code",
   "execution_count": null,
   "metadata": {},
   "outputs": [],
   "source": [
    "#Haga un análisis por estante de cuales categorías de producto tienen mayor rotación de\n",
    "#inventario y haga una propuesta de modificación"
   ]
  },
  {
   "cell_type": "code",
   "execution_count": null,
   "metadata": {},
   "outputs": [],
   "source": [
    "query = \"\"\"select \"\"\""
   ]
  },
  {
   "cell_type": "code",
   "execution_count": null,
   "metadata": {},
   "outputs": [],
   "source": [
    "#Encuentre a todos los clientes que han pagado con 2 bancos distintos en la ultima semana. \n",
    "#Enumérelos y diga si son parte del programa de afiliados."
   ]
  },
  {
   "cell_type": "code",
   "execution_count": 22,
   "metadata": {},
   "outputs": [
    {
     "data": {
      "text/html": [
       "<div>\n",
       "<style scoped>\n",
       "    .dataframe tbody tr th:only-of-type {\n",
       "        vertical-align: middle;\n",
       "    }\n",
       "\n",
       "    .dataframe tbody tr th {\n",
       "        vertical-align: top;\n",
       "    }\n",
       "\n",
       "    .dataframe thead th {\n",
       "        text-align: right;\n",
       "    }\n",
       "</style>\n",
       "<table border=\"1\" class=\"dataframe\">\n",
       "  <thead>\n",
       "    <tr style=\"text-align: right;\">\n",
       "      <th></th>\n",
       "      <th>row_number</th>\n",
       "      <th>nombre</th>\n",
       "      <th>apellido</th>\n",
       "      <th>afiliacion</th>\n",
       "    </tr>\n",
       "  </thead>\n",
       "  <tbody>\n",
       "  </tbody>\n",
       "</table>\n",
       "</div>"
      ],
      "text/plain": [
       "Empty DataFrame\n",
       "Columns: [row_number, nombre, apellido, afiliacion]\n",
       "Index: []"
      ]
     },
     "execution_count": 22,
     "metadata": {},
     "output_type": "execute_result"
    }
   ],
   "source": [
    "query = \"\"\"select row_number() over (order by compra.id_cliente), cliente.nombre, cliente.apellido, \n",
    "            case when afiliado.id_cliente is null then 'NO AFILIADO' else 'AFILIADO' end as afiliacion\n",
    "            from (select id_factura, id_compra, id_banco, fecha from factura \n",
    "            group by id_factura, id_compra, id_banco, fecha\n",
    "            having (current_date-factura.fecha)<=7) x\n",
    "            full outer join compra on x.id_compra = compra.id_compra\n",
    "            left join afiliado on compra.id_cliente = afiliado.id_cliente\n",
    "            inner join cliente on compra.id_cliente = cliente.id_cliente\n",
    "            group by compra.id_cliente, cliente.nombre, cliente.apellido, afiliado.id_cliente having count(distinct (x.id_banco, compra.id_cliente))>=2\"\"\"\n",
    "pretty_select(query)"
   ]
  },
  {
   "cell_type": "raw",
   "metadata": {},
   "source": [
    "TRIGGERS"
   ]
  },
  {
   "cell_type": "code",
   "execution_count": null,
   "metadata": {},
   "outputs": [],
   "source": [
    "#Realizar compra: Esto procedimiento almacenado debe tener como parámetro una lista de\n",
    "#productos con su cantidad, el banco por donde se va a cancelar y un cliente. Debe tener toda la\n",
    "#lógica para ingresar en las distintas tablas la compra realizada."
   ]
  },
  {
   "cell_type": "code",
   "execution_count": 63,
   "metadata": {},
   "outputs": [
    {
     "name": "stdout",
     "output_type": "stream",
     "text": [
      "Error en el query: This result object does not return rows. It has been closed automatically.\n"
     ]
    }
   ],
   "source": [
    "query = \"\"\"create OR REPLACE function realizar_compra (lista VARCHAR[], cantidades INTEGER[], banco VARCHAR, cliente VARCHAR, sucursal VARCHAR) \n",
    "       RETURNS NUMERIC as \n",
    "    $$\n",
    "        DECLARE\n",
    "        \n",
    "            idcompra VARCHAR := CAST((select MAX(id_compra) from compra) as INTEGER) + 1;\n",
    "        \n",
    "            idfactura VARCHAR := CAST((select MAX(id_factura) from factura) as INTEGER) + 1;\n",
    "            \n",
    "            precio NUMERIC;\n",
    "            \n",
    "            plata NUMERIC := 0;\n",
    "            \n",
    "            hoy TIMESTAMP := NOW();\n",
    "            \n",
    "            i INTEGER;\n",
    "        \n",
    "        BEGIN\n",
    "                       \n",
    "            \n",
    "            FOR i IN array_lower(lista, 1) .. array_upper(lista, 1)\n",
    "            LOOP\n",
    "            \n",
    "                precio:=  (select precio from costo_producto as costo where id_producto=lista[i] AND fecha =(\n",
    "                select MAX(fecha) from costo_producto as costo2 where costo.id_producto=costo2.id_producto));\n",
    "                \n",
    "                plata:= precio*cantidades[i] + plata;\n",
    "                \n",
    "                INSERT INTO compra(id_compra, id_cliente, fecha, id_producto, cant, id_factura, id_sucursal) VALUES\n",
    "                (idcompra, cliente, hoy, lista[i], cantidades[i], idfactura, sucursal);\n",
    "                \n",
    "                UPDATE inventario SET cantidad = cantidad - cantidades[i] WHERE id_producto = lista[i];\n",
    "                \n",
    "            END LOOP;   \n",
    "            \n",
    "            INSERT INTO factura(id_factura, total, fecha, id_banco, id_compra) VALUES (idfactura, plata, hoy, banco, idcompra);\n",
    "             \n",
    "            RETURN plata;\n",
    "        END;\n",
    "    $$\n",
    "language plpgsql\"\"\"\n",
    "pretty_select(query)"
   ]
  },
  {
   "cell_type": "code",
   "execution_count": null,
   "metadata": {},
   "outputs": [],
   "source": [
    "#Haga un procedimiento almacenado que al final del día saque un estado de cuenta de cuanto\n",
    "#dinero se tiene en cada banco"
   ]
  },
  {
   "cell_type": "code",
   "execution_count": null,
   "metadata": {},
   "outputs": [],
   "source": [
    "#Haga un procedimiento almacenado que al final del mes saque un estado de cuenta de los\n",
    "#puntos de todos los afiliados al programa de fidelidad que compraron ese mes."
   ]
  },
  {
   "cell_type": "raw",
   "metadata": {},
   "source": [
    "PROCEDURES"
   ]
  },
  {
   "cell_type": "code",
   "execution_count": null,
   "metadata": {},
   "outputs": [],
   "source": [
    "#Cada vez que entre un cliente conocido, se debe agregar 1 punto a su estado de cuenta del\n",
    "#programa de fidelidad."
   ]
  },
  {
   "cell_type": "code",
   "execution_count": null,
   "metadata": {},
   "outputs": [],
   "source": [
    "#Cada vez que un cliente conocido realice una compra, se le agregaran los puntos en su programa\n",
    "#de fidelidad"
   ]
  },
  {
   "cell_type": "code",
   "execution_count": null,
   "metadata": {},
   "outputs": [],
   "source": [
    "#Si un cliente desconocido con la misma cedula compra mas de 4 veces, automáticamente se\n",
    "#agregará al programa de fidelidad."
   ]
  }
 ],
 "metadata": {
  "kernelspec": {
   "display_name": "Python 3",
   "language": "python",
   "name": "python3"
  },
  "language_info": {
   "codemirror_mode": {
    "name": "ipython",
    "version": 3
   },
   "file_extension": ".py",
   "mimetype": "text/x-python",
   "name": "python",
   "nbconvert_exporter": "python",
   "pygments_lexer": "ipython3",
   "version": "3.7.6"
  }
 },
 "nbformat": 4,
 "nbformat_minor": 4
}