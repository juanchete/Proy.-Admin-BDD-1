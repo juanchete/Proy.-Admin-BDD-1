{
 "cells": [
  {
   "cell_type": "code",
   "execution_count": 1,
   "metadata": {},
   "outputs": [],
   "source": [
    "import ssl\n",
    "import sys\n",
    "import psycopg2\n",
    "from sqlalchemy import create_engine\n",
    "import paho.mqtt.client\n",
    "import json\n",
    "import pandas as pd"
   ]
  },
  {
   "cell_type": "code",
   "execution_count": 2,
   "metadata": {},
   "outputs": [],
   "source": [
    "def pretty_select(query):\n",
    "    connection_string = 'postgres://{}:{}@{}:5432/{}'.format(user, password, host, dbname)\n",
    "    try:\n",
    "        engine = create_engine(connection_string)\n",
    "        records = pd.read_sql_query(query, engine)\n",
    "    except Exception as e:\n",
    "        print('Error en el query:', e)\n",
    "    else:\n",
    "        return records"
   ]
  },
  {
   "cell_type": "code",
   "execution_count": 3,
   "metadata": {},
   "outputs": [],
   "source": [
    "def select(query):\n",
    "    cur = myConnection.cursor()\n",
    "    try:\n",
    "        cur.execute(query)\n",
    "    except Exception as e:\n",
    "        myConnection.commit()\n",
    "        print('Error en el query:', e)\n",
    "    else:\n",
    "        records = cur.fetchall()\n",
    "        cur.close()\n",
    "        return records"
   ]
  },
  {
   "cell_type": "code",
   "execution_count": 4,
   "metadata": {},
   "outputs": [],
   "source": [
    "host='ruby.db.elephantsql.com'\n",
    "user ='uicdhpnp'\n",
    "password='Kfp61NZwnYQVCSDf-zl7Jae836R2u0Fn'\n",
    "dbname='uicdhpnp'"
   ]
  },
  {
   "cell_type": "code",
<<<<<<< HEAD
   "execution_count": 118,
=======
   "execution_count": 94,
>>>>>>> a8285f6fedf624e88a76d30db8a611261a190edc
   "metadata": {
    "scrolled": true
   },
   "outputs": [],
   "source": [
    "myConnection.close()"
   ]
  },
  {
   "cell_type": "code",
   "execution_count": 119,
   "metadata": {},
   "outputs": [],
   "source": [
    "myConnection = psycopg2.connect(host = host,\n",
    "                                user= user, password =password,\n",
    "                                dbname= dbname)"
   ]
  },
  {
   "cell_type": "code",
   "execution_count": null,
   "metadata": {},
   "outputs": [],
   "source": [
    "query = \"\"\"create table sensores_data (\n",
    "\tID_Estante varchar (4),\n",
    "    cant numeric (3,0),\n",
    "    temp numeric (3,1),\n",
    "    hora character varying,\n",
    "    primary key(ID_Estante, hora)\n",
    ");\"\"\"\n",
    "cur = myConnection.cursor()\n",
    "cur.execute(query)\n",
    "cur.close()\n",
    "myConnection.commit()"
   ]
  },
  {
   "cell_type": "code",
   "execution_count": null,
   "metadata": {},
   "outputs": [],
   "source": [
    "query = \"\"\"insert into Compra (ID_Compra, ID_Cliente, fecha, ID_Product, cant, ID_Sucursal) values (6003, 25021709, '11/5/2019', 3001, 3, 1000);\n",
    "insert into Compra (ID_Compra, ID_Cliente, fecha, ID_Product, cant, ID_Sucursal) values (6003, 25021709, '11/5/2019', 3004, 2, 1000);\n",
    "insert into Compra (ID_Compra, ID_Cliente, fecha, ID_Product, cant, ID_Sucursal) values (6003, 25021709, '11/5/2019', 3010, 3, 1000);\n",
    "insert into Compra (ID_Compra, ID_Cliente, fecha, ID_Product, cant, ID_Sucursal) values (6003, 25021709, '11/5/2019', 3006, 1, 1000);\n",
    "insert into Compra (ID_Compra, ID_Cliente, fecha, ID_Product, cant, ID_Sucursal) values (6003, 25021709, '11/5/2019', 3015, 4, 1000);\"\"\"\n",
    "\n",
    "cur = myConnection.cursor()\n",
    "cur.execute(query)"
   ]
  },
  {
   "cell_type": "code",
   "execution_count": null,
   "metadata": {},
   "outputs": [],
   "source": [
    "query = \"\"\"UPDATE compra\n",
    " SET id_sucursal='1001' where id_compra like '6002'\n",
    " \"\"\""
   ]
  },
  {
   "cell_type": "code",
   "execution_count": null,
   "metadata": {},
   "outputs": [],
   "source": [
    "query = \"\"\"select * from compra\"\"\"\n",
    "pretty_select(query)"
   ]
  },
  {
   "cell_type": "raw",
   "metadata": {},
   "source": [
    "QUERIES"
   ]
  },
  {
   "cell_type": "code",
   "execution_count": null,
   "metadata": {},
   "outputs": [],
   "source": [
    "#Cuales son los clientes conocidos y desconocidos que mas han comprado en cada una de las tiendas\n",
    "AÑADIR DATA EN OTRA TIENDA PARA AGREGAR ESO"
   ]
  },
  {
   "cell_type": "code",
   "execution_count": 6,
   "metadata": {},
   "outputs": [
    {
     "data": {
      "text/html": [
       "<div>\n",
       "<style scoped>\n",
       "    .dataframe tbody tr th:only-of-type {\n",
       "        vertical-align: middle;\n",
       "    }\n",
       "\n",
       "    .dataframe tbody tr th {\n",
       "        vertical-align: top;\n",
       "    }\n",
       "\n",
       "    .dataframe thead th {\n",
       "        text-align: right;\n",
       "    }\n",
       "</style>\n",
       "<table border=\"1\" class=\"dataframe\">\n",
       "  <thead>\n",
       "    <tr style=\"text-align: right;\">\n",
       "      <th></th>\n",
       "      <th>id_cliente</th>\n",
       "      <th>nombre</th>\n",
       "      <th>apellido</th>\n",
       "      <th>afiliacion</th>\n",
       "    </tr>\n",
       "  </thead>\n",
       "  <tbody>\n",
       "    <tr>\n",
       "      <th>0</th>\n",
       "      <td>24846813</td>\n",
       "      <td>Moreen</td>\n",
       "      <td>Nelthrop</td>\n",
       "      <td>AFILIADO</td>\n",
       "    </tr>\n",
       "    <tr>\n",
       "      <th>1</th>\n",
       "      <td>27937999</td>\n",
       "      <td>Jyoti</td>\n",
       "      <td>Paolo</td>\n",
       "      <td>NO AFILIADO</td>\n",
       "    </tr>\n",
       "  </tbody>\n",
       "</table>\n",
       "</div>"
      ],
      "text/plain": [
       "  id_cliente  nombre  apellido   afiliacion\n",
       "0   24846813  Moreen  Nelthrop     AFILIADO\n",
       "1   27937999   Jyoti     Paolo  NO AFILIADO"
      ]
     },
     "execution_count": 6,
     "metadata": {},
     "output_type": "execute_result"
    }
   ],
   "source": [
    "query = \"\"\"select x.id_cliente, cliente.nombre, cliente.apellido,\n",
    "            case when afiliado.id_cliente is null then 'NO AFILIADO' else 'AFILIADO' end as afiliacion\n",
    "            from \n",
    "            (SELECT compra.id_cliente, COUNT(DISTINCT (compra.id_cliente, id_compra)) as compritas,\n",
    "            row_number() over \n",
    "            (partition by case when afiliado.id_cliente is null then 'NO AFILIADO' else 'AFILIADO' end) as top\n",
    "            FROM compra left join afiliado on compra.id_cliente = afiliado.id_cliente\n",
    "            group by compra.id_cliente, afiliado.id_cliente\n",
    "            order by compritas DESC) x\n",
    "            left join afiliado on x.id_cliente = afiliado.id_cliente\n",
    "            inner join cliente on x.id_cliente = cliente.id_cliente\n",
    "            where top <=1\"\"\"\n",
    "pretty_select(query)"
   ]
  },
  {
   "cell_type": "code",
   "execution_count": null,
   "metadata": {},
   "outputs": [],
   "source": [
    "#Diga cual es la categoría de producto que menos se ha vendido en cada una de las tiendas."
   ]
  },
  {
   "cell_type": "code",
   "execution_count": 18,
   "metadata": {
    "scrolled": true
   },
   "outputs": [
    {
     "data": {
      "text/html": [
       "<div>\n",
       "<style scoped>\n",
       "    .dataframe tbody tr th:only-of-type {\n",
       "        vertical-align: middle;\n",
       "    }\n",
       "\n",
       "    .dataframe tbody tr th {\n",
       "        vertical-align: top;\n",
       "    }\n",
       "\n",
       "    .dataframe thead th {\n",
       "        text-align: right;\n",
       "    }\n",
       "</style>\n",
       "<table border=\"1\" class=\"dataframe\">\n",
       "  <thead>\n",
       "    <tr style=\"text-align: right;\">\n",
       "      <th></th>\n",
       "      <th>id_sucursal</th>\n",
       "      <th>nombre</th>\n",
       "    </tr>\n",
       "  </thead>\n",
       "  <tbody>\n",
       "    <tr>\n",
       "      <th>0</th>\n",
       "      <td>1000</td>\n",
       "      <td>Snacks</td>\n",
       "    </tr>\n",
       "    <tr>\n",
       "      <th>1</th>\n",
       "      <td>1001</td>\n",
       "      <td>Higiene</td>\n",
       "    </tr>\n",
       "  </tbody>\n",
       "</table>\n",
       "</div>"
      ],
      "text/plain": [
       "  id_sucursal   nombre\n",
       "0        1000   Snacks\n",
       "1        1001  Higiene"
      ]
     },
     "execution_count": 18,
     "metadata": {},
     "output_type": "execute_result"
    }
   ],
   "source": [
    "query = \"\"\"select distinct on (id_sucursal) id_sucursal, categoria.nombre from compra \n",
    "           inner join producto on producto.id_producto = compra.id_producto\n",
    "           inner join categoria on producto.id_categoria = categoria.id_categoria\n",
    "           group by categoria.nombre, id_sucursal order by id_sucursal, sum(cant) asc limit 2\"\"\"\n",
    "pretty_select(query)"
   ]
  },
  {
   "cell_type": "code",
   "execution_count": null,
   "metadata": {},
   "outputs": [],
   "source": [
    "#Cuales es el top 5 de productos que mas se han vendido en cada una de las tiendas."
   ]
  },
  {
   "cell_type": "code",
   "execution_count": 19,
   "metadata": {
    "scrolled": true
   },
   "outputs": [
    {
     "data": {
      "text/html": [
       "<div>\n",
       "<style scoped>\n",
       "    .dataframe tbody tr th:only-of-type {\n",
       "        vertical-align: middle;\n",
       "    }\n",
       "\n",
       "    .dataframe tbody tr th {\n",
       "        vertical-align: top;\n",
       "    }\n",
       "\n",
       "    .dataframe thead th {\n",
       "        text-align: right;\n",
       "    }\n",
       "</style>\n",
       "<table border=\"1\" class=\"dataframe\">\n",
       "  <thead>\n",
       "    <tr style=\"text-align: right;\">\n",
       "      <th></th>\n",
       "      <th>direccion</th>\n",
       "      <th>nombrecito</th>\n",
       "      <th>cantidad</th>\n",
       "    </tr>\n",
       "  </thead>\n",
       "  <tbody>\n",
       "    <tr>\n",
       "      <th>0</th>\n",
       "      <td>las mercedes</td>\n",
       "      <td>Coca cola 1.5</td>\n",
       "      <td>129.0</td>\n",
       "    </tr>\n",
       "    <tr>\n",
       "      <th>1</th>\n",
       "      <td>las mercedes</td>\n",
       "      <td>Natuchip verdes 500</td>\n",
       "      <td>126.0</td>\n",
       "    </tr>\n",
       "    <tr>\n",
       "      <th>2</th>\n",
       "      <td>las mercedes</td>\n",
       "      <td>Jamon de pavo Movilla</td>\n",
       "      <td>121.0</td>\n",
       "    </tr>\n",
       "    <tr>\n",
       "      <th>3</th>\n",
       "      <td>las mercedes</td>\n",
       "      <td>Head &amp; shoulders</td>\n",
       "      <td>102.0</td>\n",
       "    </tr>\n",
       "    <tr>\n",
       "      <th>4</th>\n",
       "      <td>las mercedes</td>\n",
       "      <td>Chistorra La Monserratina</td>\n",
       "      <td>99.0</td>\n",
       "    </tr>\n",
       "    <tr>\n",
       "      <th>5</th>\n",
       "      <td>los samanes</td>\n",
       "      <td>Listerine Cool mint</td>\n",
       "      <td>137.0</td>\n",
       "    </tr>\n",
       "    <tr>\n",
       "      <th>6</th>\n",
       "      <td>los samanes</td>\n",
       "      <td>Colgate</td>\n",
       "      <td>136.0</td>\n",
       "    </tr>\n",
       "    <tr>\n",
       "      <th>7</th>\n",
       "      <td>los samanes</td>\n",
       "      <td>Lechuga</td>\n",
       "      <td>131.0</td>\n",
       "    </tr>\n",
       "    <tr>\n",
       "      <th>8</th>\n",
       "      <td>los samanes</td>\n",
       "      <td>Rikomalt 1</td>\n",
       "      <td>130.0</td>\n",
       "    </tr>\n",
       "    <tr>\n",
       "      <th>9</th>\n",
       "      <td>los samanes</td>\n",
       "      <td>Jamon de pavo Movilla</td>\n",
       "      <td>129.0</td>\n",
       "    </tr>\n",
       "  </tbody>\n",
       "</table>\n",
       "</div>"
      ],
      "text/plain": [
       "      direccion                 nombrecito  cantidad\n",
       "0  las mercedes              Coca cola 1.5     129.0\n",
       "1  las mercedes        Natuchip verdes 500     126.0\n",
       "2  las mercedes      Jamon de pavo Movilla     121.0\n",
       "3  las mercedes           Head & shoulders     102.0\n",
       "4  las mercedes  Chistorra La Monserratina      99.0\n",
       "5   los samanes        Listerine Cool mint     137.0\n",
       "6   los samanes                    Colgate     136.0\n",
       "7   los samanes                    Lechuga     131.0\n",
       "8   los samanes                 Rikomalt 1     130.0\n",
       "9   los samanes      Jamon de pavo Movilla     129.0"
      ]
     },
     "execution_count": 19,
     "metadata": {},
     "output_type": "execute_result"
    }
   ],
   "source": [
    "query = \"\"\"select sucursal.direccion, x.nombrecito, x.cantidad from \n",
    "           (select id_sucursal, producto.nombre as nombrecito, sum(cant) as cantidad, \n",
    "            row_number() over (partition by id_sucursal order by sum(cant) desc) as numero\n",
    "            from compra \n",
    "            inner join producto on compra.id_producto = producto.id_producto\n",
    "            group by id_sucursal, producto.nombre) x\n",
    "            inner join sucursal on x.id_sucursal = sucursal.id_sucursal\n",
    "           where x.numero <= 5 group by sucursal.direccion, x.nombrecito, x.cantidad order by sucursal.direccion, x.cantidad desc\"\"\"\n",
    "pretty_select(query)"
   ]
  },
  {
   "cell_type": "code",
   "execution_count": null,
   "metadata": {},
   "outputs": [],
   "source": [
    "#Diga todos los clientes que en los últimos 7 días a partir de la ejecución del query han comprado\n",
    "#solo en una tienda y los que han comprado en las dos tiendas (realice queries distintos)."
   ]
  },
  {
   "cell_type": "code",
   "execution_count": 86,
   "metadata": {},
   "outputs": [
    {
     "data": {
      "text/html": [
       "<div>\n",
       "<style scoped>\n",
       "    .dataframe tbody tr th:only-of-type {\n",
       "        vertical-align: middle;\n",
       "    }\n",
       "\n",
       "    .dataframe tbody tr th {\n",
       "        vertical-align: top;\n",
       "    }\n",
       "\n",
       "    .dataframe thead th {\n",
       "        text-align: right;\n",
       "    }\n",
       "</style>\n",
       "<table border=\"1\" class=\"dataframe\">\n",
       "  <thead>\n",
       "    <tr style=\"text-align: right;\">\n",
       "      <th></th>\n",
       "      <th>id_cliente</th>\n",
       "      <th>nombre</th>\n",
       "      <th>apellido</th>\n",
       "    </tr>\n",
       "  </thead>\n",
       "  <tbody>\n",
       "    <tr>\n",
       "      <th>0</th>\n",
       "      <td>24714462</td>\n",
       "      <td>Bellanca</td>\n",
       "      <td>Mowett</td>\n",
       "    </tr>\n",
       "    <tr>\n",
       "      <th>1</th>\n",
       "      <td>25399720</td>\n",
       "      <td>Edward</td>\n",
       "      <td>Odby</td>\n",
       "    </tr>\n",
       "    <tr>\n",
       "      <th>2</th>\n",
       "      <td>26566783</td>\n",
       "      <td>Rafferty</td>\n",
       "      <td>De Michetti</td>\n",
       "    </tr>\n",
       "    <tr>\n",
       "      <th>3</th>\n",
       "      <td>27651832</td>\n",
       "      <td>Annamaria</td>\n",
       "      <td>Leach</td>\n",
       "    </tr>\n",
       "  </tbody>\n",
       "</table>\n",
       "</div>"
      ],
      "text/plain": [
       "  id_cliente     nombre     apellido\n",
       "0   24714462   Bellanca       Mowett\n",
       "1   25399720     Edward         Odby\n",
       "2   26566783   Rafferty  De Michetti\n",
       "3   27651832  Annamaria        Leach"
      ]
     },
     "execution_count": 86,
     "metadata": {},
     "output_type": "execute_result"
    }
   ],
   "source": [
    "#UNA SOLA TIENDA\n",
    "query = \"\"\"select x.id_cliente, cliente.nombre, cliente.apellido from \n",
    "            (select id_cliente, id_compra, id_sucursal from compra \n",
    "            group by id_compra, fecha, id_cliente, id_sucursal\n",
    "            having (current_date-compra.fecha::date)< 8) x\n",
    "            inner join cliente on x.id_cliente = cliente.id_cliente\n",
    "            group by x.id_cliente, cliente.nombre, cliente.apellido having count(distinct x.id_sucursal) = 1\"\"\"\n",
    "pretty_select(query)"
   ]
  },
  {
   "cell_type": "code",
   "execution_count": 96,
   "metadata": {},
   "outputs": [
    {
     "data": {
      "text/html": [
       "<div>\n",
       "<style scoped>\n",
       "    .dataframe tbody tr th:only-of-type {\n",
       "        vertical-align: middle;\n",
       "    }\n",
       "\n",
       "    .dataframe tbody tr th {\n",
       "        vertical-align: top;\n",
       "    }\n",
       "\n",
       "    .dataframe thead th {\n",
       "        text-align: right;\n",
       "    }\n",
       "</style>\n",
       "<table border=\"1\" class=\"dataframe\">\n",
       "  <thead>\n",
       "    <tr style=\"text-align: right;\">\n",
       "      <th></th>\n",
       "      <th>id_cliente</th>\n",
       "      <th>nombre</th>\n",
       "      <th>apellido</th>\n",
       "    </tr>\n",
       "  </thead>\n",
       "  <tbody>\n",
       "    <tr>\n",
       "      <th>0</th>\n",
       "      <td>24077324</td>\n",
       "      <td>Petra</td>\n",
       "      <td>Royse</td>\n",
       "    </tr>\n",
       "    <tr>\n",
       "      <th>1</th>\n",
       "      <td>24776966</td>\n",
       "      <td>Vail</td>\n",
       "      <td>Cathenod</td>\n",
       "    </tr>\n",
       "    <tr>\n",
       "      <th>2</th>\n",
       "      <td>24807501</td>\n",
       "      <td>Joyous</td>\n",
       "      <td>Orrick</td>\n",
       "    </tr>\n",
       "    <tr>\n",
       "      <th>3</th>\n",
       "      <td>24846813</td>\n",
       "      <td>Moreen</td>\n",
       "      <td>Nelthrop</td>\n",
       "    </tr>\n",
       "    <tr>\n",
       "      <th>4</th>\n",
       "      <td>24997875</td>\n",
       "      <td>Sibyl</td>\n",
       "      <td>Pieper</td>\n",
       "    </tr>\n",
       "    <tr>\n",
       "      <th>5</th>\n",
       "      <td>25021709</td>\n",
       "      <td>Hestia</td>\n",
       "      <td>Boggish</td>\n",
       "    </tr>\n",
       "    <tr>\n",
       "      <th>6</th>\n",
       "      <td>25259010</td>\n",
       "      <td>Loella</td>\n",
       "      <td>MacWhirter</td>\n",
       "    </tr>\n",
       "    <tr>\n",
       "      <th>7</th>\n",
       "      <td>25300265</td>\n",
       "      <td>Cos</td>\n",
       "      <td>Flicker</td>\n",
       "    </tr>\n",
       "    <tr>\n",
       "      <th>8</th>\n",
       "      <td>25515100</td>\n",
       "      <td>Zoe</td>\n",
       "      <td>Meakes</td>\n",
       "    </tr>\n",
       "    <tr>\n",
       "      <th>9</th>\n",
       "      <td>25619359</td>\n",
       "      <td>Ferd</td>\n",
       "      <td>Boshere</td>\n",
       "    </tr>\n",
       "    <tr>\n",
       "      <th>10</th>\n",
       "      <td>26044929</td>\n",
       "      <td>Angelina</td>\n",
       "      <td>Nairy</td>\n",
       "    </tr>\n",
       "    <tr>\n",
       "      <th>11</th>\n",
       "      <td>26066636</td>\n",
       "      <td>Shellie</td>\n",
       "      <td>Sweetsur</td>\n",
       "    </tr>\n",
       "    <tr>\n",
       "      <th>12</th>\n",
       "      <td>26118740</td>\n",
       "      <td>Mickie</td>\n",
       "      <td>Dunning</td>\n",
       "    </tr>\n",
       "    <tr>\n",
       "      <th>13</th>\n",
       "      <td>27205181</td>\n",
       "      <td>Benni</td>\n",
       "      <td>MacCracken</td>\n",
       "    </tr>\n",
       "    <tr>\n",
       "      <th>14</th>\n",
       "      <td>27408935</td>\n",
       "      <td>Matelda</td>\n",
       "      <td>Goddert.sf</td>\n",
       "    </tr>\n",
       "    <tr>\n",
       "      <th>15</th>\n",
       "      <td>27669949</td>\n",
       "      <td>Melanie</td>\n",
       "      <td>Cathro</td>\n",
       "    </tr>\n",
       "    <tr>\n",
       "      <th>16</th>\n",
       "      <td>27937999</td>\n",
       "      <td>Jyoti</td>\n",
       "      <td>Paolo</td>\n",
       "    </tr>\n",
       "  </tbody>\n",
       "</table>\n",
       "</div>"
      ],
      "text/plain": [
       "   id_cliente    nombre    apellido\n",
       "0    24077324     Petra       Royse\n",
       "1    24776966      Vail    Cathenod\n",
       "2    24807501    Joyous      Orrick\n",
       "3    24846813    Moreen    Nelthrop\n",
       "4    24997875     Sibyl      Pieper\n",
       "5    25021709    Hestia     Boggish\n",
       "6    25259010    Loella  MacWhirter\n",
       "7    25300265       Cos     Flicker\n",
       "8    25515100       Zoe      Meakes\n",
       "9    25619359      Ferd     Boshere\n",
       "10   26044929  Angelina       Nairy\n",
       "11   26066636   Shellie    Sweetsur\n",
       "12   26118740    Mickie     Dunning\n",
       "13   27205181     Benni  MacCracken\n",
       "14   27408935   Matelda  Goddert.sf\n",
       "15   27669949   Melanie      Cathro\n",
       "16   27937999     Jyoti       Paolo"
      ]
     },
     "execution_count": 96,
     "metadata": {},
     "output_type": "execute_result"
    }
   ],
   "source": [
    "#EN LAS DOS TIENDAS\n",
    "query = \"\"\"select x.id_cliente, cliente.nombre, cliente.apellido from \n",
    "            (select id_cliente, id_compra, id_sucursal from compra \n",
    "            group by id_compra, fecha, id_cliente, id_sucursal\n",
    "            having (current_date-compra.fecha::date)< 8) x\n",
    "            inner join cliente on x.id_cliente = cliente.id_cliente\n",
    "            group by x.id_cliente, cliente.nombre, cliente.apellido having count(distinct x.id_sucursal) > 1\"\"\"\n",
    "pretty_select(query)"
   ]
  },
  {
   "cell_type": "code",
   "execution_count": null,
   "metadata": {},
   "outputs": [],
   "source": [
    "#Haga un análisis por estante de cuales categorías de producto tienen mayor rotación de\n",
    "#inventario y haga una propuesta de modificación"
   ]
  },
  {
   "cell_type": "code",
   "execution_count": null,
   "metadata": {},
   "outputs": [],
   "source": [
    "query = \"\"\"select count(rotacion.id_estante) as rotaciones, rotacion.id_sucursal, categoria.nombre from\n",
    "            estante inner join rotacion on estante.id_estante = rotacion.id_estante\n",
    "            inner join inventario on estante.id_estante = inventario.id_estante\n",
    "            inner join producto on inventario.id_producto = producto.id_producto\n",
    "            inner join categoria on producto.id_categoria = categoria.id_categoria\n",
    "            group by rotacion.id_estante, rotacion.id_sucursal, categoria.nombre order by count(rotacion.id_estante) desc  \"\"\"\n",
    "pretty_select(query)"
   ]
  },
  {
   "cell_type": "code",
   "execution_count": null,
   "metadata": {},
   "outputs": [],
   "source": [
    "#Encuentre a todos los clientes que han pagado con 2 bancos distintos en la ultima semana. \n",
    "#Enumérelos y diga si son parte del programa de afiliados."
   ]
  },
  {
   "cell_type": "code",
   "execution_count": 121,
   "metadata": {},
   "outputs": [
    {
     "data": {
      "text/html": [
       "<div>\n",
       "<style scoped>\n",
       "    .dataframe tbody tr th:only-of-type {\n",
       "        vertical-align: middle;\n",
       "    }\n",
       "\n",
       "    .dataframe tbody tr th {\n",
       "        vertical-align: top;\n",
       "    }\n",
       "\n",
       "    .dataframe thead th {\n",
       "        text-align: right;\n",
       "    }\n",
       "</style>\n",
       "<table border=\"1\" class=\"dataframe\">\n",
       "  <thead>\n",
       "    <tr style=\"text-align: right;\">\n",
       "      <th></th>\n",
       "      <th>nombre</th>\n",
       "      <th>apellido</th>\n",
       "      <th>afiliacion</th>\n",
       "    </tr>\n",
       "  </thead>\n",
       "  <tbody>\n",
       "    <tr>\n",
       "      <th>0</th>\n",
       "      <td>Petra</td>\n",
       "      <td>Royse</td>\n",
       "      <td>NO AFILIADO</td>\n",
       "    </tr>\n",
       "    <tr>\n",
       "      <th>1</th>\n",
       "      <td>Bellanca</td>\n",
       "      <td>Mowett</td>\n",
       "      <td>AFILIADO</td>\n",
       "    </tr>\n",
       "    <tr>\n",
       "      <th>2</th>\n",
       "      <td>Vail</td>\n",
       "      <td>Cathenod</td>\n",
       "      <td>AFILIADO</td>\n",
       "    </tr>\n",
       "    <tr>\n",
       "      <th>3</th>\n",
       "      <td>Joyous</td>\n",
       "      <td>Orrick</td>\n",
       "      <td>NO AFILIADO</td>\n",
       "    </tr>\n",
       "    <tr>\n",
       "      <th>4</th>\n",
       "      <td>Moreen</td>\n",
       "      <td>Nelthrop</td>\n",
       "      <td>AFILIADO</td>\n",
       "    </tr>\n",
       "    <tr>\n",
       "      <th>5</th>\n",
       "      <td>Sibyl</td>\n",
       "      <td>Pieper</td>\n",
       "      <td>AFILIADO</td>\n",
       "    </tr>\n",
       "    <tr>\n",
       "      <th>6</th>\n",
       "      <td>Hestia</td>\n",
       "      <td>Boggish</td>\n",
       "      <td>AFILIADO</td>\n",
       "    </tr>\n",
       "    <tr>\n",
       "      <th>7</th>\n",
       "      <td>Loella</td>\n",
       "      <td>MacWhirter</td>\n",
       "      <td>AFILIADO</td>\n",
       "    </tr>\n",
       "    <tr>\n",
       "      <th>8</th>\n",
       "      <td>Cos</td>\n",
       "      <td>Flicker</td>\n",
       "      <td>AFILIADO</td>\n",
       "    </tr>\n",
       "    <tr>\n",
       "      <th>9</th>\n",
       "      <td>Edward</td>\n",
       "      <td>Odby</td>\n",
       "      <td>AFILIADO</td>\n",
       "    </tr>\n",
       "    <tr>\n",
       "      <th>10</th>\n",
       "      <td>Zoe</td>\n",
       "      <td>Meakes</td>\n",
       "      <td>NO AFILIADO</td>\n",
       "    </tr>\n",
       "    <tr>\n",
       "      <th>11</th>\n",
       "      <td>Ferd</td>\n",
       "      <td>Boshere</td>\n",
       "      <td>AFILIADO</td>\n",
       "    </tr>\n",
       "    <tr>\n",
       "      <th>12</th>\n",
       "      <td>Angelina</td>\n",
       "      <td>Nairy</td>\n",
       "      <td>AFILIADO</td>\n",
       "    </tr>\n",
       "    <tr>\n",
       "      <th>13</th>\n",
       "      <td>Shellie</td>\n",
       "      <td>Sweetsur</td>\n",
       "      <td>NO AFILIADO</td>\n",
       "    </tr>\n",
       "    <tr>\n",
       "      <th>14</th>\n",
       "      <td>Mickie</td>\n",
       "      <td>Dunning</td>\n",
       "      <td>AFILIADO</td>\n",
       "    </tr>\n",
       "    <tr>\n",
       "      <th>15</th>\n",
       "      <td>Benni</td>\n",
       "      <td>MacCracken</td>\n",
       "      <td>AFILIADO</td>\n",
       "    </tr>\n",
       "    <tr>\n",
       "      <th>16</th>\n",
       "      <td>Matelda</td>\n",
       "      <td>Goddert.sf</td>\n",
       "      <td>AFILIADO</td>\n",
       "    </tr>\n",
       "    <tr>\n",
       "      <th>17</th>\n",
       "      <td>Melanie</td>\n",
       "      <td>Cathro</td>\n",
       "      <td>AFILIADO</td>\n",
       "    </tr>\n",
       "  </tbody>\n",
       "</table>\n",
       "</div>"
      ],
      "text/plain": [
       "      nombre    apellido   afiliacion\n",
       "0      Petra       Royse  NO AFILIADO\n",
       "1   Bellanca      Mowett     AFILIADO\n",
       "2       Vail    Cathenod     AFILIADO\n",
       "3     Joyous      Orrick  NO AFILIADO\n",
       "4     Moreen    Nelthrop     AFILIADO\n",
       "5      Sibyl      Pieper     AFILIADO\n",
       "6     Hestia     Boggish     AFILIADO\n",
       "7     Loella  MacWhirter     AFILIADO\n",
       "8        Cos     Flicker     AFILIADO\n",
       "9     Edward        Odby     AFILIADO\n",
       "10       Zoe      Meakes  NO AFILIADO\n",
       "11      Ferd     Boshere     AFILIADO\n",
       "12  Angelina       Nairy     AFILIADO\n",
       "13   Shellie    Sweetsur  NO AFILIADO\n",
       "14    Mickie     Dunning     AFILIADO\n",
       "15     Benni  MacCracken     AFILIADO\n",
       "16   Matelda  Goddert.sf     AFILIADO\n",
       "17   Melanie      Cathro     AFILIADO"
      ]
     },
     "execution_count": 121,
     "metadata": {},
     "output_type": "execute_result"
    }
   ],
   "source": [
    "query = \"\"\"select cliente.nombre, cliente.apellido, \n",
    "            case when afiliado.id_cliente is null then 'NO AFILIADO' else 'AFILIADO' end as afiliacion\n",
    "            from (select id_factura, id_compra, id_banco, fecha from factura \n",
    "            group by id_factura, id_compra, id_banco, fecha\n",
    "            having (current_date-factura.fecha::date)< 8) x\n",
    "            full outer join compra on x.id_compra = compra.id_compra\n",
    "            left join afiliado on compra.id_cliente = afiliado.id_cliente\n",
    "            inner join cliente on compra.id_cliente = cliente.id_cliente\n",
    "            group by compra.id_cliente, cliente.nombre, cliente.apellido, afiliado.id_cliente having count(distinct (x.id_banco, compra.id_cliente))>=2\"\"\"\n",
    "pretty_select(query)"
   ]
  },
  {
   "cell_type": "raw",
   "metadata": {},
   "source": [
    "PROCEDURES"
   ]
  },
  {
   "cell_type": "code",
   "execution_count": null,
   "metadata": {},
   "outputs": [],
   "source": [
    "#Realizar compra: Esto procedimiento almacenado debe tener como parámetro una lista de\n",
    "#productos con su cantidad, el banco por donde se va a cancelar y un cliente. Debe tener toda la\n",
    "#lógica para ingresar en las distintas tablas la compra realizada."
   ]
  },
  {
   "cell_type": "code",
   "execution_count": 63,
   "metadata": {},
   "outputs": [
    {
     "name": "stdout",
     "output_type": "stream",
     "text": [
      "Error en el query: This result object does not return rows. It has been closed automatically.\n"
     ]
    }
   ],
   "source": [
    "query = \"\"\"create OR REPLACE function realizar_compra (lista VARCHAR[], cantidades INTEGER[], banco VARCHAR, cliente VARCHAR, sucursal VARCHAR) \n",
    "       RETURNS NUMERIC as \n",
    "    $$\n",
    "        DECLARE\n",
    "        \n",
    "            idcompra VARCHAR := CAST((select MAX(id_compra) from compra) as INTEGER) + 1;\n",
    "        \n",
    "            idfactura VARCHAR := CAST((select MAX(id_factura) from factura) as INTEGER) + 1;\n",
    "            \n",
    "            precio NUMERIC;\n",
    "            \n",
    "            plata NUMERIC := 0;\n",
    "            \n",
    "            hoy TIMESTAMP := NOW();\n",
    "            \n",
    "            i INTEGER;\n",
    "        \n",
    "        BEGIN\n",
    "                       \n",
    "            \n",
    "            FOR i IN array_lower(lista, 1) .. array_upper(lista, 1)\n",
    "            LOOP\n",
    "            \n",
    "                precio:=  (select precio from costo_producto as costo where id_producto=lista[i] AND fecha =(\n",
    "                select MAX(fecha) from costo_producto as costo2 where costo.id_producto=costo2.id_producto));\n",
    "                \n",
    "                plata:= precio*cantidades[i] + plata;\n",
    "                \n",
    "                INSERT INTO compra(id_compra, id_cliente, fecha, id_producto, cant, id_factura, id_sucursal) VALUES\n",
    "                (idcompra, cliente, hoy, lista[i], cantidades[i], idfactura, sucursal);\n",
    "                \n",
    "                UPDATE inventario SET cantidad = cantidad - cantidades[i] WHERE id_producto = lista[i];\n",
    "                \n",
    "            END LOOP;   \n",
    "            \n",
    "            INSERT INTO factura(id_factura, total, fecha, id_banco, id_compra) VALUES (idfactura, plata, hoy, banco, idcompra);\n",
    "             \n",
    "            RETURN plata;\n",
    "        END;\n",
    "    $$\n",
    "language plpgsql\"\"\"\n",
    "pretty_select(query)"
   ]
  },
  {
   "cell_type": "code",
   "execution_count": null,
   "metadata": {},
   "outputs": [],
   "source": [
    "#Haga un procedimiento almacenado que al final del día saque un estado de cuenta de cuanto\n",
    "#dinero se tiene en cada banco"
   ]
  },
  {
   "cell_type": "code",
   "execution_count": null,
   "metadata": {},
   "outputs": [],
   "source": [
    "query = \"\"\"create OR REPLACE function platica ()\n",
    "       RETURNS table (banco VARCHAR, saldo NUMERIC) as \n",
    "    $$\n",
    "        DECLARE\n",
    "        \n",
    "        hoy TIMESTAMP:= date_part('day',now());\n",
    "        \n",
    "        BEGIN       \n",
    "             \n",
    "            RETURN QUERY select banco.nombre, SUM(factura.total) from factura inner join banco on factura.id_banco=banco.id_banco\n",
    "            where date_part('day', factura.fecha) =  hoy group by banco.nombre;\n",
    "            \n",
    "        END;\n",
    "    $$\n",
    "language plpgsql\"\"\"\n",
    "cur = myConnection.cursor()\n",
    "cur.execute(query)\n",
    "cur.close()\n",
    "myConnection.commit()\n"
   ]
  },
  {
   "cell_type": "code",
   "execution_count": null,
   "metadata": {},
   "outputs": [],
   "source": [
    "#Haga un procedimiento almacenado que al final del mes saque un estado de cuenta de los\n",
    "#puntos de todos los afiliados al programa de fidelidad que compraron ese mes."
   ]
  },
  {
   "cell_type": "code",
   "execution_count": null,
   "metadata": {},
   "outputs": [],
   "source": [
    "query = \"\"\"create OR REPLACE function finalmes ()\n",
    "       RETURNS table (cliente VARCHAR, punticos NUMERIC) as \n",
    "    $$\n",
    "        DECLARE\n",
    "        \n",
    "        hoy TIMESTAMP:= date_part('month',now());\n",
    "        \n",
    "        BEGIN       \n",
    "             \n",
    "            RETURN QUERY select afiliado.id_cliente, afiliado.puntos from factura inner join compra on factura.id_compra=compra.id_compra\n",
    "            inner join afiliado on afiliado.id_cliente = compra.id_cliente\n",
    "            where date_part('month', factura.fecha) = hoy group by afiliado.id_cliente;\n",
    "            \n",
    "        END;\n",
    "    $$\n",
    "language plpgsql\"\"\"\n",
    "cur = myConnection.cursor()\n",
    "cur.execute(query)\n",
    "cur.close()\n",
    "myConnection.commit()\n",
    "\n",
    "\n"
   ]
  },
  {
   "cell_type": "raw",
   "metadata": {},
   "source": [
    "TRIGGERS"
   ]
  },
  {
   "cell_type": "code",
   "execution_count": null,
   "metadata": {},
   "outputs": [],
   "source": [
    "query = \"\"\"select distinct(id_cliente) from compra where id_compra like 'id_cromprita'\"\"\"\n",
    "select(query)"
   ]
  },
  {
   "cell_type": "code",
   "execution_count": null,
   "metadata": {},
   "outputs": [],
   "source": [
    "#Cada vez que entre un cliente conocido, se debe agregar 1 punto a su estado de cuenta del\n",
    "#programa de fidelidad. "
   ]
  },
  {
   "cell_type": "code",
   "execution_count": null,
   "metadata": {},
   "outputs": [],
   "source": [
    "query = \"\"\"create or replace function check_comprador(id_comprita varchar)\n",
    "      RETURNS trigger AS\n",
    "      $$\n",
    "      DECLARE\n",
    "        clientico varchar;\n",
    "        puntos numeric(20,2);\n",
    "      BEGIN\n",
    "        select into clientico distinct(id_cliente) from compra where id_compra like 'id_cromprita'; \n",
    "        select into id_comprador count(id_cliente) from afiliado where id_cliente = id_check;\n",
    "        select into puntos sum(cant*0.1) from compra where id_compra like 'id_comprita';\n",
    "        update afiliado set puntos = 'puntos' where id_cliente like 'clientico';\n",
    "      END;\n",
    "      $$\n",
    "\"\"\"\n",
    "query2 = \"\"\"create trigger visita_fiel after insert on factura \n",
    "           referencing new row as new_factura\n",
    "           for each statement execute procedure check_comprador(new_factura.id_compra)\n",
    "           language plpgsql\n",
    "\"\"\"\n",
    "pretty_select(query)"
   ]
  },
  {
   "cell_type": "code",
   "execution_count": null,
   "metadata": {},
   "outputs": [],
   "source": [
    "#Cada vez que un cliente conocido realice una compra, se le agregaran los puntos en su programa\n",
    "#de fidelidad"
   ]
  },
  {
   "cell_type": "code",
   "execution_count": null,
   "metadata": {},
   "outputs": [],
   "source": [
    "query = \"\"\"create or replace function check_visita(id_visitador varchar)\n",
    "      RETURNS trigger AS\n",
    "      $$\n",
    "      DECLARE\n",
    "        clientico varchar;\n",
    "        existe integer;\n",
    "      BEGIN\n",
    "        select into existe count(id_cliente) from afiliado where id_cliente like 'id_visitador';\n",
    "        if existe<1 then\n",
    "            update afiliado set puntos = puntos+1 where id_cliente like 'id_visitador';\n",
    "        end if;\n",
    "      END;\n",
    "      $$\n",
    "\"\"\"\n",
    "query2 = \"\"\"create trigger compra_fiel after insert on visita\n",
    "           referencing new row as new_visita\n",
    "           for each statement execute procedure check_visita(new_visita.id_cliente)\n",
    "           language plpgsql\n",
    "\"\"\"\n",
    "pretty_select(query)"
   ]
  },
  {
   "cell_type": "code",
   "execution_count": null,
   "metadata": {},
   "outputs": [],
   "source": [
    "#Si un cliente desconocido con la misma cedula compra mas de 4 veces, automáticamente se\n",
    "#agregará al programa de fidelidad."
   ]
  },
  {
   "cell_type": "code",
   "execution_count": null,
   "metadata": {},
   "outputs": [],
   "source": [
    "query = \"\"\"create or replace function check_afiliado(id_comprador varchar)\n",
    "      RETURNS trigger AS\n",
    "      $$\n",
    "      DECLARE\n",
    "        veces integer;\n",
    "        existe integer;\n",
    "      BEGIN\n",
    "        select into existe count(id_cliente) from afiliado where id_cliente like 'id_comprador';\n",
    "        if existe<1 then\n",
    "            select into veces count(distinct(id_compra)) from compra where id_cliente like 'id_comprador';\n",
    "            if veces>3 then\n",
    "                update afiliado set puntos = 'puntos' where id_cliente like 'clientico';\n",
    "            end if;\n",
    "        end if;\n",
    "      END;\n",
    "      $$\n",
    "\"\"\"\n",
    "query2 = \"\"\"create trigger afiliacion after insert on compra\n",
    "           referencing new row as new_compra\n",
    "           for each statement execute procedure check_afiliado(new_compra.id_cliente)\n",
    "           language plpgsql\n",
    "\"\"\"\n",
    "pretty_select(query)"
   ]
  },
  {
   "cell_type": "code",
   "execution_count": null,
   "metadata": {},
   "outputs": [],
   "source": [
    "ANALISIS"
   ]
  },
  {
   "cell_type": "code",
   "execution_count": null,
   "metadata": {},
   "outputs": [],
   "source": [
    "¿Cuáles son las categorías de producto que se venden mejor en cada una de las tiendas? Use un\n",
    "pivot table para razonar su respuesta."
   ]
  },
  {
   "cell_type": "code",
   "execution_count": null,
   "metadata": {},
   "outputs": [],
   "source": [
    "query = \"\"\"select sum(compra.cant) as cantidad_total_comprada, categoria.nombre, compra.id_sucursal from\n",
    "            compra inner join producto on compra.id_producto = producto.id_producto\n",
    "            inner join categoria on categoria.id_categoria = producto.id_categoria\n",
    "            group by categoria.nombre, compra.id_sucursal order by sum(compra.cant) DESC\"\"\"\n",
    "pretty_select(query)"
   ]
  },
  {
   "cell_type": "code",
   "execution_count": null,
   "metadata": {},
   "outputs": [],
   "source": [
    "¿Qué banco, categoría de producto y tienda prefieren los clientes de nuestro programa de\n",
    "afiliados?"
   ]
  },
  {
   "cell_type": "code",
   "execution_count": null,
   "metadata": {},
   "outputs": [],
   "source": [
    "#BANCO\n",
    "query = \"\"\"select count(factura.id_factura) as clientes_con_este_banco, banco.nombre from\n",
    "            banco inner join factura on banco.id_banco = factura.id_banco\n",
    "            group by banco.nombre order by count(factura.id_factura) DESC\"\"\"\n",
    "pretty_select(query)"
   ]
  },
  {
   "cell_type": "code",
   "execution_count": null,
   "metadata": {},
   "outputs": [],
   "source": [
    "#CATEGORIA\n",
    "query = \"\"\"select sum(compra.cant) as cantidad_total_comprada, categoria.nombre, compra.id_sucursal from\n",
    "            compra inner join producto on compra.id_producto = producto.id_producto\n",
    "            inner join categoria on categoria.id_categoria = producto.id_categoria\n",
    "            group by categoria.nombre, compra.id_sucursal order by sum(compra.cant) DESC\"\"\"\n",
    "pretty_select(query)"
   ]
  },
  {
   "cell_type": "code",
   "execution_count": null,
   "metadata": {},
   "outputs": [],
   "source": [
    "#TIENDA\n",
    "query = \"\"\"select count(factura.id_factura) as cantidad_de_ventas_x_tienda, sucursal.direccion from\n",
    "            factura inner join compra on factura.id_factura = compra.id_factura\n",
    "            inner join sucursal on compra.id_sucursal = sucursal.id_sucursal\n",
    "            group by sucursal.direccion order by count(factura.id_factura) DESC\"\"\"\n",
    "pretty_select(query)"
   ]
  },
  {
   "cell_type": "code",
   "execution_count": null,
   "metadata": {},
   "outputs": [],
   "source": [
    "¿Qué horas del día son más rentable para cada una de las tiendas? Razone su respuesta."
   ]
  },
  {
   "cell_type": "code",
   "execution_count": null,
   "metadata": {},
   "outputs": [],
   "source": [
    "query = \"\"\"select count(factura.id_factura) as cantidad_de_ventas_x_hora, date_part('hour', factura.fecha) as hora from\n",
    "            factura  group by hora order by count(factura.id_factura) DESC\"\"\"\n",
    "pretty_select(query)"
   ]
  },
  {
   "cell_type": "code",
   "execution_count": null,
   "metadata": {},
   "outputs": [],
   "source": [
    "¿Es posible ver la cantidad de mercancía que había por hora en uno de los estantes de una de\n",
    "las tiendas en el día anterior?"
   ]
  },
  {
   "cell_type": "code",
   "execution_count": null,
   "metadata": {},
   "outputs": [],
   "source": [
    "\n",
    "query = \"\"\"SELECT inventario.cantidad, date_part('hour', factura.fecha), inventario.id_estante from\n",
    "            inventario inner join \n",
    "            CURRENT_DATE - INTERVAL '1 day'\"\"\"\n",
    "pretty_select(query)"
   ]
  }
 ],
 "metadata": {
  "kernelspec": {
   "display_name": "Python 3",
   "language": "python",
   "name": "python3"
  },
  "language_info": {
   "codemirror_mode": {
    "name": "ipython",
    "version": 3
   },
   "file_extension": ".py",
   "mimetype": "text/x-python",
   "name": "python",
   "nbconvert_exporter": "python",
   "pygments_lexer": "ipython3",
   "version": "3.7.6"
  }
 },
 "nbformat": 4,
 "nbformat_minor": 4
}
