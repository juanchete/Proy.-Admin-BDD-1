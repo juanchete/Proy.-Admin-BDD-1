{
 "cells": [
  {
   "cell_type": "code",
   "execution_count": null,
   "metadata": {},
   "outputs": [],
   "source": [
    "import ssl\n",
    "import sys\n",
    "import psycopg2\n",
    "from sqlalchemy import create_engine\n",
    "import paho.mqtt.client\n",
    "import json\n",
    "import pandas as pd"
   ]
  },
  {
   "cell_type": "code",
   "execution_count": null,
   "metadata": {},
   "outputs": [],
   "source": [
    "def pretty_select(query):\n",
    "    connection_string = 'postgres://{}:{}@{}:5432/{}'.format(user, password, host, dbname)\n",
    "    try:\n",
    "        engine = create_engine(connection_string)\n",
    "        records = pd.read_sql_query(query, engine)\n",
    "    except Exception as e:\n",
    "        print('Error en el query:', e)\n",
    "    else:\n",
    "        return records"
   ]
  },
  {
   "cell_type": "code",
   "execution_count": null,
   "metadata": {},
   "outputs": [],
   "source": [
    "def select(query):\n",
    "    cur = myConnection.cursor()\n",
    "    try:\n",
    "        cur.execute(query)\n",
    "    except Exception as e:\n",
    "        myConnection.commit()\n",
    "        print('Error en el query:', e)\n",
    "    else:\n",
    "        records = cur.fetchall()\n",
    "        cur.close()\n",
    "        return records"
   ]
  },
  {
   "cell_type": "code",
   "execution_count": null,
   "metadata": {},
   "outputs": [],
   "source": [
    "host='ruby.db.elephantsql.com'\n",
    "user ='uicdhpnp'\n",
    "password='Kfp61NZwnYQVCSDf-zl7Jae836R2u0Fn'\n",
    "dbname='uicdhpnp'"
   ]
  },
  {
   "cell_type": "code",
   "execution_count": 257,
   "metadata": {},
   "outputs": [],
   "source": [
    "query = \"\"\"insert into Afiliado (ID_Cliente, puntos, fecha) values (25021709, 73115422, '8/7/2019');\n",
    "insert into Afiliado (ID_Cliente, puntos, fecha) values (25399720, 48326798, '7/1/2018');\n",
    "insert into Afiliado (ID_Cliente, puntos, fecha) values (26044929, 29777845, '7/4/2018');\n",
    "insert into Afiliado (ID_Cliente, puntos, fecha) values (26118740, 64145287, '2/21/2019');\n",
    "insert into Afiliado (ID_Cliente, puntos, fecha) values (24997875, 16701050, '7/12/2018');\n",
    "insert into Afiliado (ID_Cliente, puntos, fecha) values (25619359, 91948793, '1/19/2019');\n",
    "insert into Afiliado (ID_Cliente, puntos, fecha) values (24776966, 61027902, '2/19/2020');\n",
    "insert into Afiliado (ID_Cliente, puntos, fecha) values (27205181, 77602299, '5/22/2020');\n",
    "insert into Afiliado (ID_Cliente, puntos, fecha) values (27651832, 97954860, '9/7/2018');\n",
    "insert into Afiliado (ID_Cliente, puntos, fecha) values (25300265, 79125628, '12/31/2019');\n",
    "insert into Afiliado (ID_Cliente, puntos, fecha) values (27408935, 3980860, '9/2/2018');\n",
    "insert into Afiliado (ID_Cliente, puntos, fecha) values (24846813, 68522885, '11/13/2019');\n",
    "insert into Afiliado (ID_Cliente, puntos, fecha) values (24714462, 31311721, '10/20/2018');\n",
    "insert into Afiliado (ID_Cliente, puntos, fecha) values (27669949, 38812618, '5/15/2019');\n",
    "insert into Afiliado (ID_Cliente, puntos, fecha) values (25259010, 2204526, '11/5/2018');\"\"\"\n",
    "\n",
    "cur = myConnection.cursor()\n",
    "cur.execute(query)"
   ]
  },
  {
   "cell_type": "code",
   "execution_count": null,
   "metadata": {},
   "outputs": [],
   "source": [
    "myConnection.close()"
   ]
  },
  {
   "cell_type": "code",
   "execution_count": null,
   "metadata": {},
   "outputs": [],
   "source": [
    "myConnection = psycopg2.connect(host = host,\n",
    "                                user= user, password =password,\n",
    "                                dbname= dbname)"
   ]
  },
  {
   "cell_type": "code",
   "execution_count": null,
   "metadata": {},
   "outputs": [],
   "source": [
    "query = \"\"\"drop table afiliado\"\"\"\n",
    "cur = myConnection.cursor()\n",
    "cur.execute(query)\n",
    "cur.close()\n",
    "myConnection.commit()"
   ]
  },
  {
   "cell_type": "code",
   "execution_count": null,
   "metadata": {},
   "outputs": [],
   "source": [
    "query = \"\"\"create table Afiliado (\n",
    "\tID_Cliente varchar (8),\n",
    "\tpuntos numeric (15,0),\n",
    "    fecha date,\n",
    "    primary key (ID_Cliente),\n",
    "\tforeign key (ID_Cliente) references Cliente\n",
    "\t\ton delete cascade\n",
    ");\"\"\"\n",
    "cur = myConnection.cursor()\n",
    "cur.execute(query)\n",
    "cur.close()\n",
    "myConnection.commit()"
   ]
  },
  {
   "cell_type": "code",
   "execution_count": 35,
   "metadata": {},
   "outputs": [],
   "source": [
    "query = \"\"\"create table Visita (\n",
    "\tID_Cliente varchar (4),\n",
    "    fecha date,\n",
    "    ID_Sucursal varchar(4),\n",
    "    primary key (ID_Cliente,fecha,ID_Sucursal)\n",
    ");\"\"\"\n",
    "cur = myConnection.cursor()\n",
    "cur.execute(query)\n",
    "cur.close()\n",
    "myConnection.commit()"
   ]
  },
  {
   "cell_type": "code",
   "execution_count": 250,
   "metadata": {},
   "outputs": [],
   "source": [
    "query = \"\"\"insert into Factura (ID_Factura, fecha, ID_Banco, ID_Compra) values (4001, '7/9/2019', 2, 6001);\"\"\"\n",
    "\n",
    "cur = myConnection.cursor()\n",
    "cur.execute(query)"
   ]
  },
  {
   "cell_type": "code",
   "execution_count": null,
   "metadata": {},
   "outputs": [],
   "source": [
    "query = \"\"\"insert into Visita (ID_Cliente, fecha, ID_Sucursal) values (25021709, '10/24/2019', 0);\n",
    "insert into Visita (ID_Cliente, fecha, ID_Sucursal) values (25399720, '9/16/2019', 1);\n",
    "insert into Visita (ID_Cliente, fecha, ID_Sucursal) values (26044929, '9/24/2019', 1);\n",
    "insert into Visita (ID_Cliente, fecha, ID_Sucursal) values (25399720, '8/30/2019', 0);\n",
    "insert into Visita (ID_Cliente, fecha, ID_Sucursal) values (26118740, '3/16/2020', 0);\n",
    "insert into Visita (ID_Cliente, fecha, ID_Sucursal) values (25619359, '9/24/2019', 0);\n",
    "insert into Visita (ID_Cliente, fecha, ID_Sucursal) values (24997875, '4/23/2019', 1);\n",
    "insert into Visita (ID_Cliente, fecha, ID_Sucursal) values (25021709, '11/5/2019', 0);\n",
    "insert into Visita (ID_Cliente, fecha, ID_Sucursal) values (26118740, '12/1/2019', 0);\n",
    "insert into Visita (ID_Cliente, fecha, ID_Sucursal) values (24776966, '1/2/2019', 1);\n",
    "insert into Visita (ID_Cliente, fecha, ID_Sucursal) values (26044929, '9/10/2018', 1);\n",
    "insert into Visita (ID_Cliente, fecha, ID_Sucursal) values (27205181, '5/9/2019', 0);\n",
    "insert into Visita (ID_Cliente, fecha, ID_Sucursal) values (24776966, '3/17/2020', 1);\n",
    "insert into Visita (ID_Cliente, fecha, ID_Sucursal) values (25619359, '4/8/2020', 0);\n",
    "insert into Visita (ID_Cliente, fecha, ID_Sucursal) values (27651832, '1/2/2019', 1);\n",
    "insert into Visita (ID_Cliente, fecha, ID_Sucursal) values (24997875, '11/3/2019', 1);\n",
    "insert into Visita (ID_Cliente, fecha, ID_Sucursal) values (27205181, '11/18/2019', 0);\n",
    "insert into Visita (ID_Cliente, fecha, ID_Sucursal) values (27408935, '7/12/2018', 0);\n",
    "insert into Visita (ID_Cliente, fecha, ID_Sucursal) values (24846813, '11/23/2019', 0);\n",
    "insert into Visita (ID_Cliente, fecha, ID_Sucursal) values (25300265, '7/7/2019', 1);\n",
    "insert into Visita (ID_Cliente, fecha, ID_Sucursal) values (25259010, '5/29/2020', 1);\n",
    "insert into Visita (ID_Cliente, fecha, ID_Sucursal) values (27408935, '5/24/2020', 1);\n",
    "insert into Visita (ID_Cliente, fecha, ID_Sucursal) values (24846813, '7/23/2018', 0);\n",
    "insert into Visita (ID_Cliente, fecha, ID_Sucursal) values (27669949, '5/7/2020', 1);\n",
    "insert into Visita (ID_Cliente, fecha, ID_Sucursal) values (27408935, '5/20/2019', 0);\n",
    "insert into Visita (ID_Cliente, fecha, ID_Sucursal) values (26066636, '11/1/2019', 1);\n",
    "insert into Visita (ID_Cliente, fecha, ID_Sucursal) values (27651832, '6/28/2019', 1);\n",
    "insert into Visita (ID_Cliente, fecha, ID_Sucursal) values (24714462, '11/15/2018', 1);\n",
    "insert into Visita (ID_Cliente, fecha, ID_Sucursal) values (26566783, '3/18/2020', 0);\n",
    "insert into Visita (ID_Cliente, fecha, ID_Sucursal) values (24714462, '8/8/2019', 0);\n",
    "insert into Visita (ID_Cliente, fecha, ID_Sucursal) values (26566783, '8/28/2019', 1);\n",
    "insert into Visita (ID_Cliente, fecha, ID_Sucursal) values (24807501, '11/9/2019', 1);\n",
    "insert into Visita (ID_Cliente, fecha, ID_Sucursal) values (25300265, '2/14/2020', 1);\n",
    "insert into Visita (ID_Cliente, fecha, ID_Sucursal) values (25259010, '3/4/2019', 1);\n",
    "insert into Visita (ID_Cliente, fecha, ID_Sucursal) values (27669949, '1/18/2020', 1);\n",
    "insert into Visita (ID_Cliente, fecha, ID_Sucursal) values (27669949, '8/23/2019', 0);\n",
    "insert into Visita (ID_Cliente, fecha, ID_Sucursal) values (24714462, '5/5/2020', 1);\n",
    "insert into Visita (ID_Cliente, fecha, ID_Sucursal) values (24807501, '2/12/2019', 1);\n",
    "insert into Visita (ID_Cliente, fecha, ID_Sucursal) values (25259010, '7/20/2019', 0);\n",
    "insert into Visita (ID_Cliente, fecha, ID_Sucursal) values (26566783, '9/28/2018', 0);\n",
    "insert into Visita (ID_Cliente, fecha, ID_Sucursal) values (25515100, '7/21/2019', 1);\n",
    "insert into Visita (ID_Cliente, fecha, ID_Sucursal) values (24077324, '8/20/2019', 1);\n",
    "insert into Visita (ID_Cliente, fecha, ID_Sucursal) values (24807501, '12/17/2018', 0);\n",
    "insert into Visita (ID_Cliente, fecha, ID_Sucursal) values (25515100, '1/3/2020', 0);\n",
    "insert into Visita (ID_Cliente, fecha, ID_Sucursal) values (25515100, '12/2/2019', 0);\n",
    "insert into Visita (ID_Cliente, fecha, ID_Sucursal) values (24077324, '5/13/2020', 1);\n",
    "insert into Visita (ID_Cliente, fecha, ID_Sucursal) values (24077324, '2/4/2019', 1);\n",
    "insert into Visita (ID_Cliente, fecha, ID_Sucursal) values (27937999, '7/27/2018', 0);\n",
    "insert into Visita (ID_Cliente, fecha, ID_Sucursal) values (27937999, '8/18/2018', 1);\n",
    "insert into Visita (ID_Cliente, fecha, ID_Sucursal) values (27937999, '3/23/2019', 1);\"\"\"\n",
    "\n",
    "cur = myConnection.cursor()\n",
    "cur.execute(query)"
   ]
  },
  {
   "cell_type": "code",
   "execution_count": 270,
   "metadata": {},
   "outputs": [],
   "source": [
    "query = \"\"\"UPDATE fac\n",
    " SET fac.total = c.suma\n",
    " FROM factura fac\n",
    " INNER JOIN\n",
    " (\n",
    "   SELECT ID_Compra, SUM(cant) suma\n",
    "   FROM compra\n",
    "   GROUP BY ID_Compra\n",
    " ) c ON fac.ID_Compra = c.ID_Compra\"\"\""
   ]
  },
  {
   "cell_type": "code",
   "execution_count": 275,
   "metadata": {},
   "outputs": [
    {
     "data": {
      "text/plain": [
       "[('25021709', 'Hestia', 'Boggish', datetime.date(1983, 1, 20)),\n",
       " ('25399720', 'Edward', 'Odby', datetime.date(1984, 12, 22)),\n",
       " ('26044929', 'Angelina', 'Nairy', datetime.date(1982, 11, 26)),\n",
       " ('26118740', 'Mickie', 'Dunning', datetime.date(1977, 2, 26)),\n",
       " ('24997875', 'Sibyl', 'Pieper', datetime.date(1986, 2, 6)),\n",
       " ('25619359', 'Ferd', 'Boshere', datetime.date(1997, 4, 25)),\n",
       " ('24776966', 'Vail', 'Cathenod', datetime.date(1994, 8, 4)),\n",
       " ('27205181', 'Benni', 'MacCracken', datetime.date(1979, 3, 9)),\n",
       " ('27651832', 'Annamaria', 'Leach', datetime.date(1991, 1, 7)),\n",
       " ('25300265', 'Cos', 'Flicker', datetime.date(1979, 8, 4)),\n",
       " ('27408935', 'Matelda', 'Goddert.sf', datetime.date(1997, 11, 26)),\n",
       " ('24846813', 'Moreen', 'Nelthrop', datetime.date(1997, 6, 19)),\n",
       " ('24714462', 'Bellanca', 'Mowett', datetime.date(1990, 4, 30)),\n",
       " ('27669949', 'Melanie', 'Cathro', datetime.date(1976, 6, 21)),\n",
       " ('25259010', 'Loella', 'MacWhirter', datetime.date(1987, 5, 14)),\n",
       " ('24807501', 'Joyous', 'Orrick', datetime.date(1976, 3, 12)),\n",
       " ('24077324', 'Petra', 'Royse', datetime.date(1992, 10, 13)),\n",
       " ('26066636', 'Shellie', 'Sweetsur', datetime.date(1985, 6, 26)),\n",
       " ('26566783', 'Rafferty', 'De Michetti', datetime.date(1986, 4, 15)),\n",
       " ('25515100', 'Zoe', 'Meakes', datetime.date(1978, 12, 4)),\n",
       " ('27937999', 'Jyoti', 'Paolo', datetime.date(1990, 3, 6))]"
      ]
     },
     "execution_count": 275,
     "metadata": {},
     "output_type": "execute_result"
    }
   ],
   "source": [
    "query = \"\"\"select * from cliente\"\"\"\n",
    "select(query)"
   ]
  },
  {
   "cell_type": "code",
   "execution_count": null,
   "metadata": {},
   "outputs": [],
   "source": [
    "query = \"\"\"update sucursal set max_capacidad = 100 where ID_Sucursal like '1001'\"\"\"\n",
    "cur = myConnection.cursor()\n",
    "cur.execute(query)\n",
    "cur.close()\n",
    "myConnection.commit()"
   ]
  },
  {
   "cell_type": "code",
   "execution_count": 91,
   "metadata": {},
   "outputs": [
    {
     "data": {
      "text/plain": [
       "[('24403879',\n",
       "  'Orelee',\n",
       "  'Hilbourne',\n",
       "  datetime.date(1988, 12, 20),\n",
       "  None,\n",
       "  None,\n",
       "  None),\n",
       " ('27589249',\n",
       "  'Candice',\n",
       "  'Dinneges',\n",
       "  datetime.date(1978, 3, 10),\n",
       "  None,\n",
       "  None,\n",
       "  None),\n",
       " ('25908283', 'Ev', 'Thurborn', datetime.date(1977, 12, 16), None, None, None),\n",
       " ('28893227',\n",
       "  'Neilla',\n",
       "  'Andell',\n",
       "  datetime.date(1983, 2, 23),\n",
       "  None,\n",
       "  None,\n",
       "  None),\n",
       " ('27459306',\n",
       "  'Patience',\n",
       "  'Spinelli',\n",
       "  datetime.date(1977, 3, 13),\n",
       "  None,\n",
       "  None,\n",
       "  None),\n",
       " ('28157623',\n",
       "  'Amitie',\n",
       "  'Willowby',\n",
       "  datetime.date(1994, 4, 20),\n",
       "  None,\n",
       "  None,\n",
       "  None),\n",
       " ('28861799',\n",
       "  'Annamarie',\n",
       "  'Laurance',\n",
       "  datetime.date(1982, 4, 26),\n",
       "  None,\n",
       "  None,\n",
       "  None),\n",
       " ('25531704',\n",
       "  'Hurlee',\n",
       "  'Lambourn',\n",
       "  datetime.date(1985, 4, 14),\n",
       "  None,\n",
       "  None,\n",
       "  None),\n",
       " ('24490605', 'Alair', 'Yeo', datetime.date(1991, 12, 31), None, None, None)]"
      ]
     },
     "execution_count": 91,
     "metadata": {},
     "output_type": "execute_result"
    }
   ],
   "source": [
    "query = \"\"\"select * from cliente  full join afiliado on cliente.ID_Cliente = afiliado.ID_Cliente \n",
    "            where cliente.ID_Cliente is null or afiliado.ID_Cliente is null\"\"\"\n",
    "select(query)"
   ]
  },
  {
   "cell_type": "raw",
   "metadata": {},
   "source": [
    "QUERIES"
   ]
  },
  {
   "cell_type": "code",
   "execution_count": null,
   "metadata": {},
   "outputs": [],
   "source": [
    "#Cuales son los clientes conocidos y desconocidos que mas han comprado en cada una de las tiendas"
   ]
  },
  {
   "cell_type": "code",
   "execution_count": null,
   "metadata": {},
   "outputs": [],
   "source": [
    "#Diga cual es la categoría de producto que menos se ha vendido en cada una de las tiendas."
   ]
  },
  {
   "cell_type": "code",
   "execution_count": null,
   "metadata": {},
   "outputs": [],
   "source": [
    "#Cuales es el top 5 de productos que mas se han vendido en cada una de las tiendas."
   ]
  },
  {
   "cell_type": "code",
   "execution_count": null,
   "metadata": {},
   "outputs": [],
   "source": [
    "#Diga todos los clientes que en los últimos 7 días a partir de la ejecución del query han comprado\n",
    "#solo en una tienda y los que han comprado en las dos tiendas (realice queries distintos)."
   ]
  },
  {
   "cell_type": "code",
   "execution_count": null,
   "metadata": {},
   "outputs": [],
   "source": [
    "#Haga un análisis por estante de cuales categorías de producto tienen mayor rotación de\n",
    "#inventario y haga una propuesta de modificación"
   ]
  },
  {
   "cell_type": "code",
   "execution_count": null,
   "metadata": {},
   "outputs": [],
   "source": [
    "#Encuentre a todos los clientes que han pagado con 2 bancos distintos en la ultima semana. \n",
    "#Enumérelos y diga si son parte del programa de afiliados."
   ]
  },
  {
   "cell_type": "raw",
   "metadata": {},
   "source": [
    "TRIGGERS"
   ]
  },
  {
   "cell_type": "code",
   "execution_count": null,
   "metadata": {},
   "outputs": [],
   "source": [
    "#Realizar compra: Esto procedimiento almacenado debe tener como parámetro una lista de\n",
    "#productos con su cantidad, el banco por donde se va a cancelar y un cliente. Debe tener toda la\n",
    "#lógica para ingresar en las distintas tablas la compra realizada."
   ]
  },
  {
   "cell_type": "code",
   "execution_count": null,
   "metadata": {},
   "outputs": [],
   "source": [
    "#Haga un procedimiento almacenado que al final del día saque un estado de cuenta de cuanto\n",
    "#dinero se tiene en cada banco"
   ]
  },
  {
   "cell_type": "code",
   "execution_count": null,
   "metadata": {},
   "outputs": [],
   "source": [
    "#Haga un procedimiento almacenado que al final del mes saque un estado de cuenta de los\n",
    "#puntos de todos los afiliados al programa de fidelidad que compraron ese mes."
   ]
  },
  {
   "cell_type": "raw",
   "metadata": {},
   "source": [
    "PROCEDURES"
   ]
  },
  {
   "cell_type": "code",
   "execution_count": null,
   "metadata": {},
   "outputs": [],
   "source": [
    "#Cada vez que entre un cliente conocido, se debe agregar 1 punto a su estado de cuenta del\n",
    "#programa de fidelidad."
   ]
  },
  {
   "cell_type": "code",
   "execution_count": null,
   "metadata": {},
   "outputs": [],
   "source": [
    "#Cada vez que un cliente conocido realice una compra, se le agregaran los puntos en su programa\n",
    "#de fidelidad"
   ]
  },
  {
   "cell_type": "code",
   "execution_count": null,
   "metadata": {},
   "outputs": [],
   "source": [
    "#Si un cliente desconocido con la misma cedula compra mas de 4 veces, automáticamente se\n",
    "#agregará al programa de fidelidad."
   ]
  }
 ],
 "metadata": {
  "kernelspec": {
   "display_name": "Python 3",
   "language": "python",
   "name": "python3"
  }
 },
 "nbformat": 4,
 "nbformat_minor": 4
}
