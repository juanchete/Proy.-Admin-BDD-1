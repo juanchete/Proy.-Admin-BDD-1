{
 "cells": [
  {
   "cell_type": "code",
   "execution_count": 131,
   "metadata": {},
   "outputs": [],
   "source": [
    "import ssl\n",
    "import sys\n",
    "import psycopg2\n",
    "from sqlalchemy import create_engine\n",
    "import paho.mqtt.client\n",
    "import json\n",
    "import pandas as pd"
   ]
  },
  {
   "cell_type": "code",
   "execution_count": 132,
   "metadata": {},
   "outputs": [],
   "source": [
    "def pretty_select(query):\n",
    "    connection_string = 'postgres://{}:{}@{}:5432/{}'.format(user, password, host, dbname)\n",
    "    try:\n",
    "        engine = create_engine(connection_string)\n",
    "        records = pd.read_sql_query(query, engine)\n",
    "    except Exception as e:\n",
    "        print('Error en el query:', e)\n",
    "    else:\n",
    "        return records"
   ]
  },
  {
   "cell_type": "code",
   "execution_count": 133,
   "metadata": {},
   "outputs": [],
   "source": [
    "def select(query):\n",
    "    cur = myConnection.cursor()\n",
    "    try:\n",
    "        cur.execute(query)\n",
    "    except Exception as e:\n",
    "        myConnection.commit()\n",
    "        print('Error en el query:', e)\n",
    "    else:\n",
    "        records = cur.fetchall()\n",
    "        cur.close()\n",
    "        return records"
   ]
  },
  {
   "cell_type": "code",
   "execution_count": 134,
   "metadata": {},
   "outputs": [],
   "source": [
    "host='ruby.db.elephantsql.com'\n",
    "user ='uicdhpnp'\n",
    "password='Kfp61NZwnYQVCSDf-zl7Jae836R2u0Fn'\n",
    "dbname='uicdhpnp'"
   ]
  },
  {
   "cell_type": "code",
   "execution_count": 202,
   "metadata": {},
   "outputs": [],
   "source": [
    "myConnection.close()"
   ]
  },
  {
   "cell_type": "code",
   "execution_count": 203,
   "metadata": {},
   "outputs": [],
   "source": [
    "myConnection = psycopg2.connect(host = host,\n",
    "                                user= user, password =password,\n",
    "                                dbname= dbname)"
   ]
  },
  {
   "cell_type": "code",
   "execution_count": 37,
   "metadata": {},
   "outputs": [],
   "source": [
    "query = \"\"\"create table sensores_data (\n",
    "\tID_Estante varchar (4),\n",
    "    cant numeric (3,0),\n",
    "    temp numeric (3,1),\n",
    "    hora character varying,\n",
    "    primary key(ID_Estante, hora)\n",
    ");\"\"\"\n",
    "cur = myConnection.cursor()\n",
    "cur.execute(query)\n",
    "cur.close()\n",
    "myConnection.commit()"
   ]
  },
  {
   "cell_type": "code",
   "execution_count": 68,
   "metadata": {},
   "outputs": [],
   "source": [
    "query = \"\"\"insert into Compra (ID_Compra, ID_Cliente, fecha, ID_Product, cant, ID_Sucursal) values (6003, 25021709, '11/5/2019', 3001, 3, 1000);\n",
    "insert into Compra (ID_Compra, ID_Cliente, fecha, ID_Product, cant, ID_Sucursal) values (6003, 25021709, '11/5/2019', 3004, 2, 1000);\n",
    "insert into Compra (ID_Compra, ID_Cliente, fecha, ID_Product, cant, ID_Sucursal) values (6003, 25021709, '11/5/2019', 3010, 3, 1000);\n",
    "insert into Compra (ID_Compra, ID_Cliente, fecha, ID_Product, cant, ID_Sucursal) values (6003, 25021709, '11/5/2019', 3006, 1, 1000);\n",
    "insert into Compra (ID_Compra, ID_Cliente, fecha, ID_Product, cant, ID_Sucursal) values (6003, 25021709, '11/5/2019', 3015, 4, 1000);\"\"\"\n",
    "\n",
    "cur = myConnection.cursor()\n",
    "cur.execute(query)"
   ]
  },
  {
   "cell_type": "code",
   "execution_count": 116,
   "metadata": {},
   "outputs": [],
   "source": [
    "query = \"\"\"UPDATE compra\n",
    " SET id_sucursal='1001' where id_compra like '6002'\n",
    " \"\"\""
   ]
  },
  {
   "cell_type": "code",
   "execution_count": 134,
   "metadata": {},
   "outputs": [
    {
     "data": {
      "text/plain": [
       "[('6003',\n",
       "  '25021709',\n",
       "  datetime.date(2019, 11, 5),\n",
       "  '3001',\n",
       "  Decimal('3'),\n",
       "  None,\n",
       "  '1000'),\n",
       " ('6003',\n",
       "  '25021709',\n",
       "  datetime.date(2019, 11, 5),\n",
       "  '3004',\n",
       "  Decimal('2'),\n",
       "  None,\n",
       "  '1000'),\n",
       " ('6003',\n",
       "  '25021709',\n",
       "  datetime.date(2019, 11, 5),\n",
       "  '3010',\n",
       "  Decimal('3'),\n",
       "  None,\n",
       "  '1000'),\n",
       " ('6003',\n",
       "  '25021709',\n",
       "  datetime.date(2019, 11, 5),\n",
       "  '3006',\n",
       "  Decimal('1'),\n",
       "  None,\n",
       "  '1000'),\n",
       " ('6003',\n",
       "  '25021709',\n",
       "  datetime.date(2019, 11, 5),\n",
       "  '3015',\n",
       "  Decimal('4'),\n",
       "  None,\n",
       "  '1000'),\n",
       " ('6002',\n",
       "  '25399720',\n",
       "  datetime.date(2019, 8, 30),\n",
       "  '3002',\n",
       "  Decimal('2'),\n",
       "  None,\n",
       "  '1001'),\n",
       " ('6002',\n",
       "  '25399720',\n",
       "  datetime.date(2019, 8, 30),\n",
       "  '3006',\n",
       "  Decimal('2'),\n",
       "  None,\n",
       "  '1001'),\n",
       " ('6002',\n",
       "  '25399720',\n",
       "  datetime.date(2019, 8, 30),\n",
       "  '3010',\n",
       "  Decimal('1'),\n",
       "  None,\n",
       "  '1001'),\n",
       " ('6002',\n",
       "  '25399720',\n",
       "  datetime.date(2019, 8, 30),\n",
       "  '3003',\n",
       "  Decimal('1'),\n",
       "  None,\n",
       "  '1001'),\n",
       " ('6002',\n",
       "  '25399720',\n",
       "  datetime.date(2019, 8, 30),\n",
       "  '3009',\n",
       "  Decimal('2'),\n",
       "  None,\n",
       "  '1001'),\n",
       " ('6001',\n",
       "  '25021709',\n",
       "  datetime.date(2019, 10, 24),\n",
       "  '3001',\n",
       "  Decimal('3'),\n",
       "  None,\n",
       "  '1000'),\n",
       " ('6001',\n",
       "  '25021709',\n",
       "  datetime.date(2019, 10, 24),\n",
       "  '3004',\n",
       "  Decimal('2'),\n",
       "  None,\n",
       "  '1000'),\n",
       " ('6001',\n",
       "  '25021709',\n",
       "  datetime.date(2019, 10, 24),\n",
       "  '3010',\n",
       "  Decimal('3'),\n",
       "  None,\n",
       "  '1000'),\n",
       " ('6001',\n",
       "  '25021709',\n",
       "  datetime.date(2019, 10, 24),\n",
       "  '3006',\n",
       "  Decimal('1'),\n",
       "  None,\n",
       "  '1000'),\n",
       " ('6001',\n",
       "  '25021709',\n",
       "  datetime.date(2019, 10, 24),\n",
       "  '3015',\n",
       "  Decimal('4'),\n",
       "  None,\n",
       "  '1000')]"
      ]
     },
     "execution_count": 134,
     "metadata": {},
     "output_type": "execute_result"
    }
   ],
   "source": [
    "query = \"\"\"select * from compra\"\"\"\n",
    "select(query)"
   ]
  },
  {
   "cell_type": "raw",
   "metadata": {},
   "source": [
    "QUERIES"
   ]
  },
  {
   "cell_type": "code",
   "execution_count": null,
   "metadata": {},
   "outputs": [],
   "source": [
    "#Cuales son los clientes conocidos y desconocidos que mas han comprado en cada una de las tiendas\n",
    "AÑADIR DATA EN OTRA TIENDA PARA AGREGAR ESO"
   ]
  },
  {
   "cell_type": "code",
   "execution_count": 215,
   "metadata": {},
   "outputs": [
    {
     "data": {
      "text/plain": [
       "[('25021709', 'Hestia', 'Boggish', 'AFILIADO')]"
      ]
     },
     "execution_count": 215,
     "metadata": {},
     "output_type": "execute_result"
    }
   ],
   "source": [
    "query = \"\"\"select x.id_cliente, cliente.nombre, cliente.apellido,\n",
    "            case when afiliado.id_cliente is null then 'NO AFILIADO' else 'AFILIADO' end as afiliacion\n",
    "            from \n",
    "            (SELECT compra.id_cliente, COUNT(DISTINCT (compra.id_cliente, id_compra)) as compritas,\n",
    "            row_number() over \n",
    "            (partition by case when afiliado.id_cliente is null then 'NO AFILIADO' else 'AFILIADO' end) as top\n",
    "            FROM compra left join afiliado on compra.id_cliente = afiliado.id_cliente\n",
    "            group by compra.id_cliente, afiliado.id_cliente\n",
    "            order by compritas DESC) x\n",
    "            left join afiliado on x.id_cliente = afiliado.id_cliente\n",
    "            inner join cliente on x.id_cliente = cliente.id_cliente\n",
    "            where top <=1\"\"\"\n",
    "select(query)"
   ]
  },
  {
   "cell_type": "code",
   "execution_count": 137,
   "metadata": {},
   "outputs": [
    {
     "data": {
      "text/plain": [
       "[('25021709', 2), ('25399720', 1)]"
      ]
     },
     "execution_count": 137,
     "metadata": {},
     "output_type": "execute_result"
    }
   ],
   "source": [
    "#CONOCIDOS\n",
    "query = \"\"\"SELECT id_cliente, COUNT(DISTINCT (compra.id_cliente, id_compra)) as compritas\n",
    "           FROM compra group by id_cliente\n",
    "           order by compritas DESC\"\"\"\n",
    "select(query)"
   ]
  },
  {
   "cell_type": "code",
   "execution_count": 95,
   "metadata": {},
   "outputs": [
    {
     "data": {
      "text/plain": [
       "[(None, 1)]"
      ]
     },
     "execution_count": 95,
     "metadata": {},
     "output_type": "execute_result"
    }
   ],
   "source": [
    "#DESCONOCIDOS\n",
    "query = \"\"\"SELECT compra.id_cliente, COUNT(DISTINCT (compra.id_cliente, id_compra)) as compritas\n",
    "        FROM compra full join afiliado on compra.id_cliente=afiliado.id_cliente \n",
    "        where compra.id_cliente is null or afiliado.id_cliente is null\n",
    "        group by compra.id_cliente\n",
    "        order by compritas desc limit 1\"\"\"\n",
    "select(query)"
   ]
  },
  {
   "cell_type": "code",
   "execution_count": null,
   "metadata": {},
   "outputs": [],
   "source": [
    "#Diga cual es la categoría de producto que menos se ha vendido en cada una de las tiendas."
   ]
  },
  {
   "cell_type": "code",
   "execution_count": 146,
   "metadata": {},
   "outputs": [
    {
     "data": {
      "text/plain": [
       "[('1000', 'Higiene'), ('1001', 'Snacks')]"
      ]
     },
     "execution_count": 146,
     "metadata": {},
     "output_type": "execute_result"
    }
   ],
   "source": [
    "query = \"\"\"select distinct on (id_sucursal) id_sucursal, categoria.nombre from compra \n",
    "           inner join producto on producto.id_producto = compra.id_product\n",
    "           inner join categoria on producto.id_categoria = categoria.id_categoria\n",
    "           group by categoria.nombre, id_sucursal order by id_sucursal, sum(cant) asc limit 2\"\"\"\n",
    "select(query)"
   ]
  },
  {
   "cell_type": "code",
   "execution_count": null,
   "metadata": {},
   "outputs": [],
   "source": [
    "#Cuales es el top 5 de productos que mas se han vendido en cada una de las tiendas."
   ]
  },
  {
   "cell_type": "code",
   "execution_count": 166,
   "metadata": {},
   "outputs": [
    {
     "data": {
      "text/plain": [
       "[('las mercedes', 'Chistorra La Monserratina', Decimal('2')),\n",
       " ('las mercedes', 'Colgate', Decimal('2')),\n",
       " ('las mercedes', 'Lechuga', Decimal('2')),\n",
       " ('las mercedes', 'Coca cola 1.5', Decimal('1')),\n",
       " ('las mercedes', 'Doritos 200', Decimal('1')),\n",
       " ('los samanes', 'Toallitas humedas Huggies', Decimal('8')),\n",
       " ('los samanes', 'Chocolate de leche Nestle', Decimal('6')),\n",
       " ('los samanes', 'Doritos 200', Decimal('6')),\n",
       " ('los samanes', 'Jamon de pavo Movilla', Decimal('4')),\n",
       " ('los samanes', 'Colgate', Decimal('2'))]"
      ]
     },
     "execution_count": 166,
     "metadata": {},
     "output_type": "execute_result"
    }
   ],
   "source": [
    "query = \"\"\"select sucursal.direccion, x.nombrecito, x.cantidad from \n",
    "           (select id_sucursal, producto.nombre as nombrecito, sum(cant) as cantidad, \n",
    "            row_number() over (partition by id_sucursal order by sum(cant) desc) as numero\n",
    "            from compra \n",
    "            inner join producto on compra.id_product = producto.id_producto\n",
    "            group by id_sucursal, producto.nombre) x\n",
    "            inner join sucursal on x.id_sucursal = sucursal.id_sucursal\n",
    "           where x.numero <= 5 group by sucursal.direccion, x.nombrecito, x.cantidad order by sucursal.direccion, x.cantidad desc\"\"\"\n",
    "select(query)"
   ]
  },
  {
   "cell_type": "code",
   "execution_count": null,
   "metadata": {},
   "outputs": [],
   "source": [
    "#Diga todos los clientes que en los últimos 7 días a partir de la ejecución del query han comprado\n",
    "#solo en una tienda y los que han comprado en las dos tiendas (realice queries distintos)."
   ]
  },
  {
   "cell_type": "code",
   "execution_count": 213,
   "metadata": {},
   "outputs": [
    {
     "data": {
      "text/plain": [
       "[('25399720', 'Edward', 'Odby')]"
      ]
     },
     "execution_count": 213,
     "metadata": {},
     "output_type": "execute_result"
    }
   ],
   "source": [
    "#UNA SOLA TIENDA\n",
    "query = \"\"\"select x.id_cliente, cliente.nombre, cliente.apellido from \n",
    "            (select id_cliente, id_compra, id_sucursal from compra \n",
    "            group by id_compra, fecha, id_cliente, id_sucursal\n",
    "            having (current_date-compra.fecha)<=400) x\n",
    "            inner join cliente on x.id_cliente = cliente.id_cliente\n",
    "            group by x.id_cliente, cliente.nombre, cliente.apellido having count(distinct x.id_sucursal) = 1\"\"\"\n",
    "select(query)"
   ]
  },
  {
   "cell_type": "code",
   "execution_count": 212,
   "metadata": {},
   "outputs": [
    {
     "data": {
      "text/plain": [
       "[('25021709', 'Hestia', 'Boggish')]"
      ]
     },
     "execution_count": 212,
     "metadata": {},
     "output_type": "execute_result"
    }
   ],
   "source": [
    "#EN LAS DOS TIENDAS\n",
    "query = \"\"\"select x.id_cliente, cliente.nombre, cliente.apellido from \n",
    "            (select id_cliente, id_compra, id_sucursal from compra \n",
    "            group by id_compra, fecha, id_cliente, id_sucursal\n",
    "            having (current_date-compra.fecha)<=400) x\n",
    "            inner join cliente on x.id_cliente = cliente.id_cliente\n",
    "            group by x.id_cliente, cliente.nombre, cliente.apellido having count(distinct x.id_sucursal) > 1\"\"\"\n",
    "select(query)"
   ]
  },
  {
   "cell_type": "code",
   "execution_count": null,
   "metadata": {},
   "outputs": [],
   "source": [
    "#Haga un análisis por estante de cuales categorías de producto tienen mayor rotación de\n",
    "#inventario y haga una propuesta de modificación"
   ]
  },
  {
   "cell_type": "code",
   "execution_count": null,
   "metadata": {},
   "outputs": [],
   "source": [
    "query = \"\"\"select \"\"\""
   ]
  },
  {
   "cell_type": "code",
   "execution_count": null,
   "metadata": {},
   "outputs": [],
   "source": [
    "#Encuentre a todos los clientes que han pagado con 2 bancos distintos en la ultima semana. \n",
    "#Enumérelos y diga si son parte del programa de afiliados."
   ]
  },
  {
   "cell_type": "code",
   "execution_count": 188,
   "metadata": {},
   "outputs": [
    {
     "data": {
      "text/plain": [
       "[]"
      ]
     },
     "execution_count": 188,
     "metadata": {},
     "output_type": "execute_result"
    }
   ],
   "source": [
    "query = \"\"\"select row_number() over (order by compra.id_cliente), cliente.nombre, cliente.apellido, \n",
    "            case when afiliado.id_cliente is null then 'NO AFILIADO' else 'AFILIADO' end as afiliacion\n",
    "            from (select id_factura, id_compra, id_banco, fecha from factura \n",
    "            group by id_factura, id_compra, id_banco, fecha\n",
    "            having (current_date-factura.fecha)<=7) x\n",
    "            full outer join compra on x.id_compra = compra.id_compra\n",
    "            left join afiliado on compra.id_cliente = afiliado.id_cliente\n",
    "            inner join cliente on compra.id_cliente = cliente.id_cliente\n",
    "            group by compra.id_cliente, cliente.nombre, cliente.apellido, afiliado.id_cliente having count(distinct (x.id_banco, compra.id_cliente))>=2\"\"\"\n",
    "select(query)"
   ]
  },
  {
   "cell_type": "raw",
   "metadata": {},
   "source": [
    "TRIGGERS"
   ]
  },
  {
   "cell_type": "code",
   "execution_count": null,
   "metadata": {},
   "outputs": [],
   "source": [
    "#Realizar compra: Esto procedimiento almacenado debe tener como parámetro una lista de\n",
    "#productos con su cantidad, el banco por donde se va a cancelar y un cliente. Debe tener toda la\n",
    "#lógica para ingresar en las distintas tablas la compra realizada."
   ]
  },
  {
   "cell_type": "code",
   "execution_count": null,
   "metadata": {},
   "outputs": [],
   "source": [
    "#Haga un procedimiento almacenado que al final del día saque un estado de cuenta de cuanto\n",
    "#dinero se tiene en cada banco"
   ]
  },
  {
   "cell_type": "code",
   "execution_count": null,
   "metadata": {},
   "outputs": [],
   "source": [
    "#Haga un procedimiento almacenado que al final del mes saque un estado de cuenta de los\n",
    "#puntos de todos los afiliados al programa de fidelidad que compraron ese mes."
   ]
  },
  {
   "cell_type": "raw",
   "metadata": {},
   "source": [
    "PROCEDURES"
   ]
  },
  {
   "cell_type": "code",
   "execution_count": null,
   "metadata": {},
   "outputs": [],
   "source": [
    "#Cada vez que entre un cliente conocido, se debe agregar 1 punto a su estado de cuenta del\n",
    "#programa de fidelidad."
   ]
  },
  {
   "cell_type": "code",
   "execution_count": null,
   "metadata": {},
   "outputs": [],
   "source": [
    "#Cada vez que un cliente conocido realice una compra, se le agregaran los puntos en su programa\n",
    "#de fidelidad"
   ]
  },
  {
   "cell_type": "code",
   "execution_count": null,
   "metadata": {},
   "outputs": [],
   "source": [
    "#Si un cliente desconocido con la misma cedula compra mas de 4 veces, automáticamente se\n",
    "#agregará al programa de fidelidad."
   ]
  }
 ],
 "metadata": {
  "kernelspec": {
   "display_name": "Python 3",
   "language": "python",
   "name": "python3"
  },
  "language_info": {
   "codemirror_mode": {
    "name": "ipython",
    "version": 3
   },
   "file_extension": ".py",
   "mimetype": "text/x-python",
   "name": "python",
   "nbconvert_exporter": "python",
   "pygments_lexer": "ipython3",
   "version": "3.8.2"
  }
 },
 "nbformat": 4,
 "nbformat_minor": 4
}
